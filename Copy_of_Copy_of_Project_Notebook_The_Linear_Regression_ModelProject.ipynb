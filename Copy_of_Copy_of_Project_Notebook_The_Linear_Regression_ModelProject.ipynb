{
  "nbformat": 4,
  "nbformat_minor": 0,
  "metadata": {
    "colab": {
      "name": "Copy of Copy of Project Notebook: The Linear Regression ModelProject",
      "provenance": [],
      "collapsed_sections": [],
      "toc_visible": true,
      "include_colab_link": true
    },
    "kernelspec": {
      "name": "python3",
      "display_name": "Python 3"
    },
    "language_info": {
      "name": "python"
    }
  },
  "cells": [
    {
      "cell_type": "markdown",
      "metadata": {
        "id": "view-in-github",
        "colab_type": "text"
      },
      "source": [
        "<a href=\"https://colab.research.google.com/github/fkivuti/wk6-The-Linear-Regression-Model-Project/blob/main/Copy_of_Copy_of_Project_Notebook_The_Linear_Regression_ModelProject.ipynb\" target=\"_parent\"><img src=\"https://colab.research.google.com/assets/colab-badge.svg\" alt=\"Open In Colab\"/></a>"
      ]
    },
    {
      "cell_type": "markdown",
      "metadata": {
        "id": "9znpyK4UbceY"
      },
      "source": [
        "# Project Notebook: The Linear Regression Model"
      ]
    },
    {
      "cell_type": "markdown",
      "metadata": {
        "id": "8JtBkHv4bdbL"
      },
      "source": [
        "## 1. Introduction"
      ]
    },
    {
      "cell_type": "markdown",
      "metadata": {
        "id": "7Q7QTPAhbjGj"
      },
      "source": [
        "We started by building intuition for model based learning, explored how the linear regression model worked, understood how the two different approaches to model fitting worked, and some techniques for cleaning, transforming, and selecting features. In this project, you can practice what you learned by exploring ways to improve the models we built.\n",
        "\n",
        "You'll work with housing data for the city of Ames, Iowa, United States from 2006 to 2010. You can also read about the different columns in the data [here](https://s3.amazonaws.com/dq-content/307/data_description.txt).\n",
        "\n",
        "Let's start by setting up a pipeline of functions that will let us quickly iterate on different models.\n",
        "\n",
        "**Tasks**\n",
        "\n",
        "1. Import pandas, matplotlib, and numpy into the environment. Import the classes you need from scikit-learn as well.\n",
        "2. Read `AmesHousing.tsv` () into a pandas data frame.\n",
        "3. For the following functions, we recommend creating them in the first few cells in the notebook. This way, you can add cells to the end of the notebook to do experiments and update the functions in these cells.\n",
        "* Create a function named `transform_features()` that, for now, just returns the train data frame.\n",
        "* Create a function named `select_features()` that, for now, just returns the Gr Liv Area and SalePrice columns from the train data frame.\n",
        "* Create a function named `train_and_test()` that, for now:\n",
        "\n",
        "1. Selects the first 1460 rows from from data and assign to train.\n",
        "2. Selects the remaining rows from data and assign to test.\n",
        "3. Trains a model using all numerical columns except the SalePrice column (the target column) from the data frame returned from `select_features()`\n",
        "4. Tests the model on the test set and returns the `RMSE` value."
      ]
    },
    {
      "cell_type": "code",
      "metadata": {
        "id": "VTUjKMIObXHq",
        "colab": {
          "base_uri": "https://localhost:8080/",
          "height": 308
        },
        "outputId": "0974b530-7732-4015-8944-2aa630c75fa2"
      },
      "source": [
        "# Your code goes here\n",
        "import pandas as pd\n",
        "import numpy as np\n",
        "import matplotlib.pyplot as plt\n",
        "import seaborn as sns\n",
        "\n",
        "\n",
        "data = pd.read_csv('https://bit.ly/3boZCX4' , delimiter= '\\t')\n",
        "data.head()\n"
      ],
      "execution_count": null,
      "outputs": [
        {
          "output_type": "execute_result",
          "data": {
            "text/html": [
              "<div>\n",
              "<style scoped>\n",
              "    .dataframe tbody tr th:only-of-type {\n",
              "        vertical-align: middle;\n",
              "    }\n",
              "\n",
              "    .dataframe tbody tr th {\n",
              "        vertical-align: top;\n",
              "    }\n",
              "\n",
              "    .dataframe thead th {\n",
              "        text-align: right;\n",
              "    }\n",
              "</style>\n",
              "<table border=\"1\" class=\"dataframe\">\n",
              "  <thead>\n",
              "    <tr style=\"text-align: right;\">\n",
              "      <th></th>\n",
              "      <th>Order</th>\n",
              "      <th>PID</th>\n",
              "      <th>MS SubClass</th>\n",
              "      <th>MS Zoning</th>\n",
              "      <th>Lot Frontage</th>\n",
              "      <th>Lot Area</th>\n",
              "      <th>Street</th>\n",
              "      <th>Alley</th>\n",
              "      <th>Lot Shape</th>\n",
              "      <th>Land Contour</th>\n",
              "      <th>Utilities</th>\n",
              "      <th>Lot Config</th>\n",
              "      <th>Land Slope</th>\n",
              "      <th>Neighborhood</th>\n",
              "      <th>Condition 1</th>\n",
              "      <th>Condition 2</th>\n",
              "      <th>Bldg Type</th>\n",
              "      <th>House Style</th>\n",
              "      <th>Overall Qual</th>\n",
              "      <th>Overall Cond</th>\n",
              "      <th>Year Built</th>\n",
              "      <th>Year Remod/Add</th>\n",
              "      <th>Roof Style</th>\n",
              "      <th>Roof Matl</th>\n",
              "      <th>Exterior 1st</th>\n",
              "      <th>Exterior 2nd</th>\n",
              "      <th>Mas Vnr Type</th>\n",
              "      <th>Mas Vnr Area</th>\n",
              "      <th>Exter Qual</th>\n",
              "      <th>Exter Cond</th>\n",
              "      <th>Foundation</th>\n",
              "      <th>Bsmt Qual</th>\n",
              "      <th>Bsmt Cond</th>\n",
              "      <th>Bsmt Exposure</th>\n",
              "      <th>BsmtFin Type 1</th>\n",
              "      <th>BsmtFin SF 1</th>\n",
              "      <th>BsmtFin Type 2</th>\n",
              "      <th>BsmtFin SF 2</th>\n",
              "      <th>Bsmt Unf SF</th>\n",
              "      <th>Total Bsmt SF</th>\n",
              "      <th>...</th>\n",
              "      <th>Central Air</th>\n",
              "      <th>Electrical</th>\n",
              "      <th>1st Flr SF</th>\n",
              "      <th>2nd Flr SF</th>\n",
              "      <th>Low Qual Fin SF</th>\n",
              "      <th>Gr Liv Area</th>\n",
              "      <th>Bsmt Full Bath</th>\n",
              "      <th>Bsmt Half Bath</th>\n",
              "      <th>Full Bath</th>\n",
              "      <th>Half Bath</th>\n",
              "      <th>Bedroom AbvGr</th>\n",
              "      <th>Kitchen AbvGr</th>\n",
              "      <th>Kitchen Qual</th>\n",
              "      <th>TotRms AbvGrd</th>\n",
              "      <th>Functional</th>\n",
              "      <th>Fireplaces</th>\n",
              "      <th>Fireplace Qu</th>\n",
              "      <th>Garage Type</th>\n",
              "      <th>Garage Yr Blt</th>\n",
              "      <th>Garage Finish</th>\n",
              "      <th>Garage Cars</th>\n",
              "      <th>Garage Area</th>\n",
              "      <th>Garage Qual</th>\n",
              "      <th>Garage Cond</th>\n",
              "      <th>Paved Drive</th>\n",
              "      <th>Wood Deck SF</th>\n",
              "      <th>Open Porch SF</th>\n",
              "      <th>Enclosed Porch</th>\n",
              "      <th>3Ssn Porch</th>\n",
              "      <th>Screen Porch</th>\n",
              "      <th>Pool Area</th>\n",
              "      <th>Pool QC</th>\n",
              "      <th>Fence</th>\n",
              "      <th>Misc Feature</th>\n",
              "      <th>Misc Val</th>\n",
              "      <th>Mo Sold</th>\n",
              "      <th>Yr Sold</th>\n",
              "      <th>Sale Type</th>\n",
              "      <th>Sale Condition</th>\n",
              "      <th>SalePrice</th>\n",
              "    </tr>\n",
              "  </thead>\n",
              "  <tbody>\n",
              "    <tr>\n",
              "      <th>0</th>\n",
              "      <td>1</td>\n",
              "      <td>526301100</td>\n",
              "      <td>20</td>\n",
              "      <td>RL</td>\n",
              "      <td>141.0</td>\n",
              "      <td>31770</td>\n",
              "      <td>Pave</td>\n",
              "      <td>NaN</td>\n",
              "      <td>IR1</td>\n",
              "      <td>Lvl</td>\n",
              "      <td>AllPub</td>\n",
              "      <td>Corner</td>\n",
              "      <td>Gtl</td>\n",
              "      <td>NAmes</td>\n",
              "      <td>Norm</td>\n",
              "      <td>Norm</td>\n",
              "      <td>1Fam</td>\n",
              "      <td>1Story</td>\n",
              "      <td>6</td>\n",
              "      <td>5</td>\n",
              "      <td>1960</td>\n",
              "      <td>1960</td>\n",
              "      <td>Hip</td>\n",
              "      <td>CompShg</td>\n",
              "      <td>BrkFace</td>\n",
              "      <td>Plywood</td>\n",
              "      <td>Stone</td>\n",
              "      <td>112.0</td>\n",
              "      <td>TA</td>\n",
              "      <td>TA</td>\n",
              "      <td>CBlock</td>\n",
              "      <td>TA</td>\n",
              "      <td>Gd</td>\n",
              "      <td>Gd</td>\n",
              "      <td>BLQ</td>\n",
              "      <td>639.0</td>\n",
              "      <td>Unf</td>\n",
              "      <td>0.0</td>\n",
              "      <td>441.0</td>\n",
              "      <td>1080.0</td>\n",
              "      <td>...</td>\n",
              "      <td>Y</td>\n",
              "      <td>SBrkr</td>\n",
              "      <td>1656</td>\n",
              "      <td>0</td>\n",
              "      <td>0</td>\n",
              "      <td>1656</td>\n",
              "      <td>1.0</td>\n",
              "      <td>0.0</td>\n",
              "      <td>1</td>\n",
              "      <td>0</td>\n",
              "      <td>3</td>\n",
              "      <td>1</td>\n",
              "      <td>TA</td>\n",
              "      <td>7</td>\n",
              "      <td>Typ</td>\n",
              "      <td>2</td>\n",
              "      <td>Gd</td>\n",
              "      <td>Attchd</td>\n",
              "      <td>1960.0</td>\n",
              "      <td>Fin</td>\n",
              "      <td>2.0</td>\n",
              "      <td>528.0</td>\n",
              "      <td>TA</td>\n",
              "      <td>TA</td>\n",
              "      <td>P</td>\n",
              "      <td>210</td>\n",
              "      <td>62</td>\n",
              "      <td>0</td>\n",
              "      <td>0</td>\n",
              "      <td>0</td>\n",
              "      <td>0</td>\n",
              "      <td>NaN</td>\n",
              "      <td>NaN</td>\n",
              "      <td>NaN</td>\n",
              "      <td>0</td>\n",
              "      <td>5</td>\n",
              "      <td>2010</td>\n",
              "      <td>WD</td>\n",
              "      <td>Normal</td>\n",
              "      <td>215000</td>\n",
              "    </tr>\n",
              "    <tr>\n",
              "      <th>1</th>\n",
              "      <td>2</td>\n",
              "      <td>526350040</td>\n",
              "      <td>20</td>\n",
              "      <td>RH</td>\n",
              "      <td>80.0</td>\n",
              "      <td>11622</td>\n",
              "      <td>Pave</td>\n",
              "      <td>NaN</td>\n",
              "      <td>Reg</td>\n",
              "      <td>Lvl</td>\n",
              "      <td>AllPub</td>\n",
              "      <td>Inside</td>\n",
              "      <td>Gtl</td>\n",
              "      <td>NAmes</td>\n",
              "      <td>Feedr</td>\n",
              "      <td>Norm</td>\n",
              "      <td>1Fam</td>\n",
              "      <td>1Story</td>\n",
              "      <td>5</td>\n",
              "      <td>6</td>\n",
              "      <td>1961</td>\n",
              "      <td>1961</td>\n",
              "      <td>Gable</td>\n",
              "      <td>CompShg</td>\n",
              "      <td>VinylSd</td>\n",
              "      <td>VinylSd</td>\n",
              "      <td>None</td>\n",
              "      <td>0.0</td>\n",
              "      <td>TA</td>\n",
              "      <td>TA</td>\n",
              "      <td>CBlock</td>\n",
              "      <td>TA</td>\n",
              "      <td>TA</td>\n",
              "      <td>No</td>\n",
              "      <td>Rec</td>\n",
              "      <td>468.0</td>\n",
              "      <td>LwQ</td>\n",
              "      <td>144.0</td>\n",
              "      <td>270.0</td>\n",
              "      <td>882.0</td>\n",
              "      <td>...</td>\n",
              "      <td>Y</td>\n",
              "      <td>SBrkr</td>\n",
              "      <td>896</td>\n",
              "      <td>0</td>\n",
              "      <td>0</td>\n",
              "      <td>896</td>\n",
              "      <td>0.0</td>\n",
              "      <td>0.0</td>\n",
              "      <td>1</td>\n",
              "      <td>0</td>\n",
              "      <td>2</td>\n",
              "      <td>1</td>\n",
              "      <td>TA</td>\n",
              "      <td>5</td>\n",
              "      <td>Typ</td>\n",
              "      <td>0</td>\n",
              "      <td>NaN</td>\n",
              "      <td>Attchd</td>\n",
              "      <td>1961.0</td>\n",
              "      <td>Unf</td>\n",
              "      <td>1.0</td>\n",
              "      <td>730.0</td>\n",
              "      <td>TA</td>\n",
              "      <td>TA</td>\n",
              "      <td>Y</td>\n",
              "      <td>140</td>\n",
              "      <td>0</td>\n",
              "      <td>0</td>\n",
              "      <td>0</td>\n",
              "      <td>120</td>\n",
              "      <td>0</td>\n",
              "      <td>NaN</td>\n",
              "      <td>MnPrv</td>\n",
              "      <td>NaN</td>\n",
              "      <td>0</td>\n",
              "      <td>6</td>\n",
              "      <td>2010</td>\n",
              "      <td>WD</td>\n",
              "      <td>Normal</td>\n",
              "      <td>105000</td>\n",
              "    </tr>\n",
              "    <tr>\n",
              "      <th>2</th>\n",
              "      <td>3</td>\n",
              "      <td>526351010</td>\n",
              "      <td>20</td>\n",
              "      <td>RL</td>\n",
              "      <td>81.0</td>\n",
              "      <td>14267</td>\n",
              "      <td>Pave</td>\n",
              "      <td>NaN</td>\n",
              "      <td>IR1</td>\n",
              "      <td>Lvl</td>\n",
              "      <td>AllPub</td>\n",
              "      <td>Corner</td>\n",
              "      <td>Gtl</td>\n",
              "      <td>NAmes</td>\n",
              "      <td>Norm</td>\n",
              "      <td>Norm</td>\n",
              "      <td>1Fam</td>\n",
              "      <td>1Story</td>\n",
              "      <td>6</td>\n",
              "      <td>6</td>\n",
              "      <td>1958</td>\n",
              "      <td>1958</td>\n",
              "      <td>Hip</td>\n",
              "      <td>CompShg</td>\n",
              "      <td>Wd Sdng</td>\n",
              "      <td>Wd Sdng</td>\n",
              "      <td>BrkFace</td>\n",
              "      <td>108.0</td>\n",
              "      <td>TA</td>\n",
              "      <td>TA</td>\n",
              "      <td>CBlock</td>\n",
              "      <td>TA</td>\n",
              "      <td>TA</td>\n",
              "      <td>No</td>\n",
              "      <td>ALQ</td>\n",
              "      <td>923.0</td>\n",
              "      <td>Unf</td>\n",
              "      <td>0.0</td>\n",
              "      <td>406.0</td>\n",
              "      <td>1329.0</td>\n",
              "      <td>...</td>\n",
              "      <td>Y</td>\n",
              "      <td>SBrkr</td>\n",
              "      <td>1329</td>\n",
              "      <td>0</td>\n",
              "      <td>0</td>\n",
              "      <td>1329</td>\n",
              "      <td>0.0</td>\n",
              "      <td>0.0</td>\n",
              "      <td>1</td>\n",
              "      <td>1</td>\n",
              "      <td>3</td>\n",
              "      <td>1</td>\n",
              "      <td>Gd</td>\n",
              "      <td>6</td>\n",
              "      <td>Typ</td>\n",
              "      <td>0</td>\n",
              "      <td>NaN</td>\n",
              "      <td>Attchd</td>\n",
              "      <td>1958.0</td>\n",
              "      <td>Unf</td>\n",
              "      <td>1.0</td>\n",
              "      <td>312.0</td>\n",
              "      <td>TA</td>\n",
              "      <td>TA</td>\n",
              "      <td>Y</td>\n",
              "      <td>393</td>\n",
              "      <td>36</td>\n",
              "      <td>0</td>\n",
              "      <td>0</td>\n",
              "      <td>0</td>\n",
              "      <td>0</td>\n",
              "      <td>NaN</td>\n",
              "      <td>NaN</td>\n",
              "      <td>Gar2</td>\n",
              "      <td>12500</td>\n",
              "      <td>6</td>\n",
              "      <td>2010</td>\n",
              "      <td>WD</td>\n",
              "      <td>Normal</td>\n",
              "      <td>172000</td>\n",
              "    </tr>\n",
              "    <tr>\n",
              "      <th>3</th>\n",
              "      <td>4</td>\n",
              "      <td>526353030</td>\n",
              "      <td>20</td>\n",
              "      <td>RL</td>\n",
              "      <td>93.0</td>\n",
              "      <td>11160</td>\n",
              "      <td>Pave</td>\n",
              "      <td>NaN</td>\n",
              "      <td>Reg</td>\n",
              "      <td>Lvl</td>\n",
              "      <td>AllPub</td>\n",
              "      <td>Corner</td>\n",
              "      <td>Gtl</td>\n",
              "      <td>NAmes</td>\n",
              "      <td>Norm</td>\n",
              "      <td>Norm</td>\n",
              "      <td>1Fam</td>\n",
              "      <td>1Story</td>\n",
              "      <td>7</td>\n",
              "      <td>5</td>\n",
              "      <td>1968</td>\n",
              "      <td>1968</td>\n",
              "      <td>Hip</td>\n",
              "      <td>CompShg</td>\n",
              "      <td>BrkFace</td>\n",
              "      <td>BrkFace</td>\n",
              "      <td>None</td>\n",
              "      <td>0.0</td>\n",
              "      <td>Gd</td>\n",
              "      <td>TA</td>\n",
              "      <td>CBlock</td>\n",
              "      <td>TA</td>\n",
              "      <td>TA</td>\n",
              "      <td>No</td>\n",
              "      <td>ALQ</td>\n",
              "      <td>1065.0</td>\n",
              "      <td>Unf</td>\n",
              "      <td>0.0</td>\n",
              "      <td>1045.0</td>\n",
              "      <td>2110.0</td>\n",
              "      <td>...</td>\n",
              "      <td>Y</td>\n",
              "      <td>SBrkr</td>\n",
              "      <td>2110</td>\n",
              "      <td>0</td>\n",
              "      <td>0</td>\n",
              "      <td>2110</td>\n",
              "      <td>1.0</td>\n",
              "      <td>0.0</td>\n",
              "      <td>2</td>\n",
              "      <td>1</td>\n",
              "      <td>3</td>\n",
              "      <td>1</td>\n",
              "      <td>Ex</td>\n",
              "      <td>8</td>\n",
              "      <td>Typ</td>\n",
              "      <td>2</td>\n",
              "      <td>TA</td>\n",
              "      <td>Attchd</td>\n",
              "      <td>1968.0</td>\n",
              "      <td>Fin</td>\n",
              "      <td>2.0</td>\n",
              "      <td>522.0</td>\n",
              "      <td>TA</td>\n",
              "      <td>TA</td>\n",
              "      <td>Y</td>\n",
              "      <td>0</td>\n",
              "      <td>0</td>\n",
              "      <td>0</td>\n",
              "      <td>0</td>\n",
              "      <td>0</td>\n",
              "      <td>0</td>\n",
              "      <td>NaN</td>\n",
              "      <td>NaN</td>\n",
              "      <td>NaN</td>\n",
              "      <td>0</td>\n",
              "      <td>4</td>\n",
              "      <td>2010</td>\n",
              "      <td>WD</td>\n",
              "      <td>Normal</td>\n",
              "      <td>244000</td>\n",
              "    </tr>\n",
              "    <tr>\n",
              "      <th>4</th>\n",
              "      <td>5</td>\n",
              "      <td>527105010</td>\n",
              "      <td>60</td>\n",
              "      <td>RL</td>\n",
              "      <td>74.0</td>\n",
              "      <td>13830</td>\n",
              "      <td>Pave</td>\n",
              "      <td>NaN</td>\n",
              "      <td>IR1</td>\n",
              "      <td>Lvl</td>\n",
              "      <td>AllPub</td>\n",
              "      <td>Inside</td>\n",
              "      <td>Gtl</td>\n",
              "      <td>Gilbert</td>\n",
              "      <td>Norm</td>\n",
              "      <td>Norm</td>\n",
              "      <td>1Fam</td>\n",
              "      <td>2Story</td>\n",
              "      <td>5</td>\n",
              "      <td>5</td>\n",
              "      <td>1997</td>\n",
              "      <td>1998</td>\n",
              "      <td>Gable</td>\n",
              "      <td>CompShg</td>\n",
              "      <td>VinylSd</td>\n",
              "      <td>VinylSd</td>\n",
              "      <td>None</td>\n",
              "      <td>0.0</td>\n",
              "      <td>TA</td>\n",
              "      <td>TA</td>\n",
              "      <td>PConc</td>\n",
              "      <td>Gd</td>\n",
              "      <td>TA</td>\n",
              "      <td>No</td>\n",
              "      <td>GLQ</td>\n",
              "      <td>791.0</td>\n",
              "      <td>Unf</td>\n",
              "      <td>0.0</td>\n",
              "      <td>137.0</td>\n",
              "      <td>928.0</td>\n",
              "      <td>...</td>\n",
              "      <td>Y</td>\n",
              "      <td>SBrkr</td>\n",
              "      <td>928</td>\n",
              "      <td>701</td>\n",
              "      <td>0</td>\n",
              "      <td>1629</td>\n",
              "      <td>0.0</td>\n",
              "      <td>0.0</td>\n",
              "      <td>2</td>\n",
              "      <td>1</td>\n",
              "      <td>3</td>\n",
              "      <td>1</td>\n",
              "      <td>TA</td>\n",
              "      <td>6</td>\n",
              "      <td>Typ</td>\n",
              "      <td>1</td>\n",
              "      <td>TA</td>\n",
              "      <td>Attchd</td>\n",
              "      <td>1997.0</td>\n",
              "      <td>Fin</td>\n",
              "      <td>2.0</td>\n",
              "      <td>482.0</td>\n",
              "      <td>TA</td>\n",
              "      <td>TA</td>\n",
              "      <td>Y</td>\n",
              "      <td>212</td>\n",
              "      <td>34</td>\n",
              "      <td>0</td>\n",
              "      <td>0</td>\n",
              "      <td>0</td>\n",
              "      <td>0</td>\n",
              "      <td>NaN</td>\n",
              "      <td>MnPrv</td>\n",
              "      <td>NaN</td>\n",
              "      <td>0</td>\n",
              "      <td>3</td>\n",
              "      <td>2010</td>\n",
              "      <td>WD</td>\n",
              "      <td>Normal</td>\n",
              "      <td>189900</td>\n",
              "    </tr>\n",
              "  </tbody>\n",
              "</table>\n",
              "<p>5 rows × 82 columns</p>\n",
              "</div>"
            ],
            "text/plain": [
              "   Order        PID  MS SubClass  ... Sale Type  Sale Condition  SalePrice\n",
              "0      1  526301100           20  ...       WD           Normal     215000\n",
              "1      2  526350040           20  ...       WD           Normal     105000\n",
              "2      3  526351010           20  ...       WD           Normal     172000\n",
              "3      4  526353030           20  ...       WD           Normal     244000\n",
              "4      5  527105010           60  ...       WD           Normal     189900\n",
              "\n",
              "[5 rows x 82 columns]"
            ]
          },
          "metadata": {},
          "execution_count": 1
        }
      ]
    },
    {
      "cell_type": "code",
      "metadata": {
        "colab": {
          "base_uri": "https://localhost:8080/"
        },
        "id": "vZ14Klzg0nvV",
        "outputId": "3815aefc-17d5-4ef6-dafc-444bf700c404"
      },
      "source": [
        "data.shape"
      ],
      "execution_count": null,
      "outputs": [
        {
          "output_type": "execute_result",
          "data": {
            "text/plain": [
              "(2930, 82)"
            ]
          },
          "metadata": {},
          "execution_count": 199
        }
      ]
    },
    {
      "cell_type": "code",
      "metadata": {
        "colab": {
          "base_uri": "https://localhost:8080/"
        },
        "id": "IZmMRNm0ut_b",
        "outputId": "98360051-7fa6-4546-f339-3527b0e5a7d0"
      },
      "source": [
        "pd.set_option('display.max_rows', None)\n",
        "data.dtypes\n"
      ],
      "execution_count": null,
      "outputs": [
        {
          "output_type": "execute_result",
          "data": {
            "text/plain": [
              "Order                int64\n",
              "PID                  int64\n",
              "MS SubClass          int64\n",
              "MS Zoning           object\n",
              "Lot Frontage       float64\n",
              "Lot Area             int64\n",
              "Street              object\n",
              "Alley               object\n",
              "Lot Shape           object\n",
              "Land Contour        object\n",
              "Utilities           object\n",
              "Lot Config          object\n",
              "Land Slope          object\n",
              "Neighborhood        object\n",
              "Condition 1         object\n",
              "Condition 2         object\n",
              "Bldg Type           object\n",
              "House Style         object\n",
              "Overall Qual         int64\n",
              "Overall Cond         int64\n",
              "Year Built           int64\n",
              "Year Remod/Add       int64\n",
              "Roof Style          object\n",
              "Roof Matl           object\n",
              "Exterior 1st        object\n",
              "Exterior 2nd        object\n",
              "Mas Vnr Type        object\n",
              "Mas Vnr Area       float64\n",
              "Exter Qual          object\n",
              "Exter Cond          object\n",
              "Foundation          object\n",
              "Bsmt Qual           object\n",
              "Bsmt Cond           object\n",
              "Bsmt Exposure       object\n",
              "BsmtFin Type 1      object\n",
              "BsmtFin SF 1       float64\n",
              "BsmtFin Type 2      object\n",
              "BsmtFin SF 2       float64\n",
              "Bsmt Unf SF        float64\n",
              "Total Bsmt SF      float64\n",
              "Heating             object\n",
              "Heating QC          object\n",
              "Central Air         object\n",
              "Electrical          object\n",
              "1st Flr SF           int64\n",
              "2nd Flr SF           int64\n",
              "Low Qual Fin SF      int64\n",
              "Gr Liv Area          int64\n",
              "Bsmt Full Bath     float64\n",
              "Bsmt Half Bath     float64\n",
              "Full Bath            int64\n",
              "Half Bath            int64\n",
              "Bedroom AbvGr        int64\n",
              "Kitchen AbvGr        int64\n",
              "Kitchen Qual        object\n",
              "TotRms AbvGrd        int64\n",
              "Functional          object\n",
              "Fireplaces           int64\n",
              "Fireplace Qu        object\n",
              "Garage Type         object\n",
              "Garage Yr Blt      float64\n",
              "Garage Finish       object\n",
              "Garage Cars        float64\n",
              "Garage Area        float64\n",
              "Garage Qual         object\n",
              "Garage Cond         object\n",
              "Paved Drive         object\n",
              "Wood Deck SF         int64\n",
              "Open Porch SF        int64\n",
              "Enclosed Porch       int64\n",
              "3Ssn Porch           int64\n",
              "Screen Porch         int64\n",
              "Pool Area            int64\n",
              "Pool QC             object\n",
              "Fence               object\n",
              "Misc Feature        object\n",
              "Misc Val             int64\n",
              "Mo Sold              int64\n",
              "Yr Sold              int64\n",
              "Sale Type           object\n",
              "Sale Condition      object\n",
              "SalePrice            int64\n",
              "dtype: object"
            ]
          },
          "metadata": {},
          "execution_count": 200
        }
      ]
    },
    {
      "cell_type": "code",
      "metadata": {
        "id": "VIKoJkdJ0t_z"
      },
      "source": [
        "# function that returns train data\n",
        "def transform_features():\n",
        "  return train\n",
        "\n",
        "# transform_features()\n",
        "\n",
        "# function that returns Gr Liv Area & SalePrice from the train data frame\n",
        "def select_features():\n",
        "  return train.loc[: , ['Gr Liv Area', 'SalePrice']]\n",
        "\n",
        "# select_features()\n",
        "\n",
        "# a function named train_and_test\n",
        "# def train_and_test():\n",
        "\n",
        "# train_and_test()"
      ],
      "execution_count": null,
      "outputs": []
    },
    {
      "cell_type": "code",
      "metadata": {
        "id": "RTYpuaVB_E7W"
      },
      "source": [
        "# apportioning rows between train and test dataframes\n",
        "\n",
        "train = data[0:1460]\n",
        "test = data[1460:]\n"
      ],
      "execution_count": null,
      "outputs": []
    },
    {
      "cell_type": "code",
      "metadata": {
        "colab": {
          "base_uri": "https://localhost:8080/",
          "height": 206
        },
        "id": "iY8x-JG6z2pb",
        "outputId": "680e73da-0b56-46e2-b953-d1dcd168e050"
      },
      "source": [
        "# assign the function select_features() to X variable\n",
        "X = select_features()\n",
        "X.head()"
      ],
      "execution_count": null,
      "outputs": [
        {
          "output_type": "execute_result",
          "data": {
            "text/html": [
              "<div>\n",
              "<style scoped>\n",
              "    .dataframe tbody tr th:only-of-type {\n",
              "        vertical-align: middle;\n",
              "    }\n",
              "\n",
              "    .dataframe tbody tr th {\n",
              "        vertical-align: top;\n",
              "    }\n",
              "\n",
              "    .dataframe thead th {\n",
              "        text-align: right;\n",
              "    }\n",
              "</style>\n",
              "<table border=\"1\" class=\"dataframe\">\n",
              "  <thead>\n",
              "    <tr style=\"text-align: right;\">\n",
              "      <th></th>\n",
              "      <th>Gr Liv Area</th>\n",
              "      <th>SalePrice</th>\n",
              "    </tr>\n",
              "  </thead>\n",
              "  <tbody>\n",
              "    <tr>\n",
              "      <th>0</th>\n",
              "      <td>1656</td>\n",
              "      <td>215000</td>\n",
              "    </tr>\n",
              "    <tr>\n",
              "      <th>1</th>\n",
              "      <td>896</td>\n",
              "      <td>105000</td>\n",
              "    </tr>\n",
              "    <tr>\n",
              "      <th>2</th>\n",
              "      <td>1329</td>\n",
              "      <td>172000</td>\n",
              "    </tr>\n",
              "    <tr>\n",
              "      <th>3</th>\n",
              "      <td>2110</td>\n",
              "      <td>244000</td>\n",
              "    </tr>\n",
              "    <tr>\n",
              "      <th>4</th>\n",
              "      <td>1629</td>\n",
              "      <td>189900</td>\n",
              "    </tr>\n",
              "  </tbody>\n",
              "</table>\n",
              "</div>"
            ],
            "text/plain": [
              "   Gr Liv Area  SalePrice\n",
              "0         1656     215000\n",
              "1          896     105000\n",
              "2         1329     172000\n",
              "3         2110     244000\n",
              "4         1629     189900"
            ]
          },
          "metadata": {},
          "execution_count": 4
        }
      ]
    },
    {
      "cell_type": "code",
      "metadata": {
        "colab": {
          "base_uri": "https://localhost:8080/",
          "height": 300
        },
        "id": "mPBr_cEe61Mo",
        "outputId": "b08da631-ed9c-4509-9780-a3f85996dd50"
      },
      "source": [
        "X.describe()"
      ],
      "execution_count": null,
      "outputs": [
        {
          "output_type": "execute_result",
          "data": {
            "text/html": [
              "<div>\n",
              "<style scoped>\n",
              "    .dataframe tbody tr th:only-of-type {\n",
              "        vertical-align: middle;\n",
              "    }\n",
              "\n",
              "    .dataframe tbody tr th {\n",
              "        vertical-align: top;\n",
              "    }\n",
              "\n",
              "    .dataframe thead th {\n",
              "        text-align: right;\n",
              "    }\n",
              "</style>\n",
              "<table border=\"1\" class=\"dataframe\">\n",
              "  <thead>\n",
              "    <tr style=\"text-align: right;\">\n",
              "      <th></th>\n",
              "      <th>Gr Liv Area</th>\n",
              "      <th>SalePrice</th>\n",
              "    </tr>\n",
              "  </thead>\n",
              "  <tbody>\n",
              "    <tr>\n",
              "      <th>count</th>\n",
              "      <td>1460.000000</td>\n",
              "      <td>1460.000000</td>\n",
              "    </tr>\n",
              "    <tr>\n",
              "      <th>mean</th>\n",
              "      <td>1490.942466</td>\n",
              "      <td>179607.671918</td>\n",
              "    </tr>\n",
              "    <tr>\n",
              "      <th>std</th>\n",
              "      <td>468.812477</td>\n",
              "      <td>78382.176457</td>\n",
              "    </tr>\n",
              "    <tr>\n",
              "      <th>min</th>\n",
              "      <td>407.000000</td>\n",
              "      <td>12789.000000</td>\n",
              "    </tr>\n",
              "    <tr>\n",
              "      <th>25%</th>\n",
              "      <td>1141.750000</td>\n",
              "      <td>128987.500000</td>\n",
              "    </tr>\n",
              "    <tr>\n",
              "      <th>50%</th>\n",
              "      <td>1454.000000</td>\n",
              "      <td>160000.000000</td>\n",
              "    </tr>\n",
              "    <tr>\n",
              "      <th>75%</th>\n",
              "      <td>1732.250000</td>\n",
              "      <td>213062.500000</td>\n",
              "    </tr>\n",
              "    <tr>\n",
              "      <th>max</th>\n",
              "      <td>3493.000000</td>\n",
              "      <td>615000.000000</td>\n",
              "    </tr>\n",
              "  </tbody>\n",
              "</table>\n",
              "</div>"
            ],
            "text/plain": [
              "       Gr Liv Area      SalePrice\n",
              "count  1460.000000    1460.000000\n",
              "mean   1490.942466  179607.671918\n",
              "std     468.812477   78382.176457\n",
              "min     407.000000   12789.000000\n",
              "25%    1141.750000  128987.500000\n",
              "50%    1454.000000  160000.000000\n",
              "75%    1732.250000  213062.500000\n",
              "max    3493.000000  615000.000000"
            ]
          },
          "metadata": {},
          "execution_count": 5
        }
      ]
    },
    {
      "cell_type": "code",
      "metadata": {
        "colab": {
          "base_uri": "https://localhost:8080/"
        },
        "id": "_a_Z4BFu01uT",
        "outputId": "3eddef64-b620-4c7b-929b-b6c80645206c"
      },
      "source": [
        "# import Linear Regression Model from Sklean linear model and mean_squared_error from metrics\n",
        "from sklearn.linear_model import LinearRegression\n",
        "from sklearn.metrics import mean_squared_error\n",
        "\n",
        "# initalize the model\n",
        "lr = LinearRegression()\n",
        "\n",
        "# train model using Gr Liv Area & SalePrice  as train and target data respectively\n",
        "lr.fit(X[['Gr Liv Area']], X['SalePrice'])\n",
        "\n",
        "test_predict = lr.predict(test[['Gr Liv Area']])\n",
        "\n",
        "mse = mean_squared_error(test[['SalePrice']], test_predict)\n",
        "rmse = mse**0.5\n",
        "\n",
        "print(\"mse : \", mse)\n",
        "print(\"rmse : \", rmse)\n",
        "\n"
      ],
      "execution_count": null,
      "outputs": [
        {
          "output_type": "stream",
          "name": "stdout",
          "text": [
            "mse :  3259068472.1879897\n",
            "rmse :  57088.25161263909\n"
          ]
        }
      ]
    },
    {
      "cell_type": "markdown",
      "metadata": {
        "id": "ZYzy0yRF7Xxk"
      },
      "source": [
        "RMES is higher than 10% of the SalesPrice mean"
      ]
    },
    {
      "cell_type": "markdown",
      "metadata": {
        "id": "aUyr-Mz0c-DG"
      },
      "source": [
        "## 2. Feature Engineering"
      ]
    },
    {
      "cell_type": "markdown",
      "metadata": {
        "id": "FfxdsJbvc_jo"
      },
      "source": [
        "Let's now start removing features with many missing values, diving deeper into potential categorical features, and transforming text and numerical columns. Update `transform_features()` so that any column from the data frame with more than 25% (or another cutoff value) missing values is dropped. You also need to remove any columns that leak information about the sale (e.g. like the year the sale happened). In general, the goal of this function is to:\n",
        "\n",
        "* remove features that we don't want to use in the model, just based on the number of missing values or data leakage.\n",
        "* transform features into the proper format (numerical to categorical, scaling numerical, filling in missing values, etc).\n",
        "* create new features by combining other features.\n",
        "\n",
        "Next, you need to get more familiar with the remaining columns by reading the data documentation for each column, determining what transformations are necessary (if any), and more. As we mentioned earlier, succeeding in predictive modeling (and competitions like Kaggle) is highly dependent on the quality of features the model has. Libraries like scikit-learn have made it quick and easy to simply try and tweak many different models, but cleaning, selecting, and transforming features are still more of an art that requires a bit of human ingenuity.\n",
        "\n",
        "**Tasks**\n",
        "\n",
        "1. As we mentioned earlier, we recommend adding some cells to explore and experiment with different features (before rewriting these functions).\n",
        "\n",
        "2. The `transform_features()` function shouldn't modify the train data frame and instead return a new one entirely. This way, we can keep using train in the experimentation cells.\n",
        "\n",
        "3. Which columns contain less than 5% missing values?\n",
        "* For numerical columns that meet this criteria, let's fill in the missing values using the most popular value for that column.\n",
        "\n",
        "4. What new features can we create, that better capture the information in some of the features?\n",
        "* An example of this would be the `years_until_remod` feature we created in the last lesson.\n",
        "\n",
        "5. Which columns need to be dropped for other reasons?\n",
        "* Which columns aren't useful for machine learning?\n",
        "* Which columns leak data about the final sale?"
      ]
    },
    {
      "cell_type": "code",
      "metadata": {
        "id": "ctVTQR07dfJE"
      },
      "source": [
        "# Your code goes here\n"
      ],
      "execution_count": null,
      "outputs": []
    },
    {
      "cell_type": "code",
      "metadata": {
        "colab": {
          "base_uri": "https://localhost:8080/"
        },
        "id": "xgPyHjyzDfEr",
        "outputId": "bb9556d5-ccef-4d52-f75c-9142d412c1c8"
      },
      "source": [
        "transform_features().shape"
      ],
      "execution_count": null,
      "outputs": [
        {
          "output_type": "execute_result",
          "data": {
            "text/plain": [
              "(1460, 82)"
            ]
          },
          "metadata": {},
          "execution_count": 74
        }
      ]
    },
    {
      "cell_type": "code",
      "metadata": {
        "colab": {
          "base_uri": "https://localhost:8080/",
          "height": 278
        },
        "id": "kLkfgOkDD_zf",
        "outputId": "4f363bcc-44f0-4a56-bb08-496a79d08e8e"
      },
      "source": [
        "# select all fields with integer or float datatype\n",
        "numerical_train = transform_features().select_dtypes(include=['int', 'float']) # select columns with int or float dtype \n",
        "\n",
        "# drop unwanted columns\n",
        "numerical_train = numerical_train.drop(columns=['Order','PID', 'Year Built','Year Remod/Add', 'Garage Yr Blt', 'Mo Sold', 'Yr Sold'], axis=1)# drop unwanted columns\n",
        "\n",
        "# Count number of missing values per columns and select columns where missing values is below 5% i.e. have a count of not more than 73 missing values.\n",
        "pd.set_option('display.max_rows', None)\n",
        "missing_values_threshold = 0.05 * 1460\n",
        "null_series= numerical_train.isnull().sum().sort_values(ascending=False)\n",
        "# null_series= (numerical_train.isnull().sum() / numerical_train.isnull().count()).sort_values(ascending=False)\n",
        "good_cols = null_series[null_series < missing_values_threshold]\n",
        "\n",
        "subset_train = numerical_train[good_cols.index]\n",
        "subset_train['years_until_remod'] = transform_features()['Year Remod/Add'] - transform_features()['Year Built']\n",
        "\n",
        "# populate null values in each column in the subset_train dataframe with mode value for the column.\n",
        "for column in subset_train:\n",
        "    if subset_train[column].isnull().any():\n",
        "        subset_train[column]=subset_train[column].fillna(subset_train[column].mode()[0])\n",
        "\n",
        "subset_train.isnull().sum()\n",
        "# print(len(good_cols))\n",
        "subset_train.head()"
      ],
      "execution_count": null,
      "outputs": [
        {
          "output_type": "execute_result",
          "data": {
            "text/html": [
              "<div>\n",
              "<style scoped>\n",
              "    .dataframe tbody tr th:only-of-type {\n",
              "        vertical-align: middle;\n",
              "    }\n",
              "\n",
              "    .dataframe tbody tr th {\n",
              "        vertical-align: top;\n",
              "    }\n",
              "\n",
              "    .dataframe thead th {\n",
              "        text-align: right;\n",
              "    }\n",
              "</style>\n",
              "<table border=\"1\" class=\"dataframe\">\n",
              "  <thead>\n",
              "    <tr style=\"text-align: right;\">\n",
              "      <th></th>\n",
              "      <th>Mas Vnr Area</th>\n",
              "      <th>Bsmt Half Bath</th>\n",
              "      <th>BsmtFin SF 1</th>\n",
              "      <th>BsmtFin SF 2</th>\n",
              "      <th>Bsmt Unf SF</th>\n",
              "      <th>Total Bsmt SF</th>\n",
              "      <th>Bsmt Full Bath</th>\n",
              "      <th>Misc Val</th>\n",
              "      <th>Lot Area</th>\n",
              "      <th>Overall Qual</th>\n",
              "      <th>Overall Cond</th>\n",
              "      <th>1st Flr SF</th>\n",
              "      <th>2nd Flr SF</th>\n",
              "      <th>Low Qual Fin SF</th>\n",
              "      <th>Gr Liv Area</th>\n",
              "      <th>SalePrice</th>\n",
              "      <th>Full Bath</th>\n",
              "      <th>Half Bath</th>\n",
              "      <th>Bedroom AbvGr</th>\n",
              "      <th>Kitchen AbvGr</th>\n",
              "      <th>TotRms AbvGrd</th>\n",
              "      <th>Fireplaces</th>\n",
              "      <th>Garage Cars</th>\n",
              "      <th>Garage Area</th>\n",
              "      <th>Wood Deck SF</th>\n",
              "      <th>Open Porch SF</th>\n",
              "      <th>Enclosed Porch</th>\n",
              "      <th>3Ssn Porch</th>\n",
              "      <th>Screen Porch</th>\n",
              "      <th>Pool Area</th>\n",
              "      <th>MS SubClass</th>\n",
              "      <th>years_until_remod</th>\n",
              "    </tr>\n",
              "  </thead>\n",
              "  <tbody>\n",
              "    <tr>\n",
              "      <th>0</th>\n",
              "      <td>112.0</td>\n",
              "      <td>0.0</td>\n",
              "      <td>639.0</td>\n",
              "      <td>0.0</td>\n",
              "      <td>441.0</td>\n",
              "      <td>1080.0</td>\n",
              "      <td>1.0</td>\n",
              "      <td>0</td>\n",
              "      <td>31770</td>\n",
              "      <td>6</td>\n",
              "      <td>5</td>\n",
              "      <td>1656</td>\n",
              "      <td>0</td>\n",
              "      <td>0</td>\n",
              "      <td>1656</td>\n",
              "      <td>215000</td>\n",
              "      <td>1</td>\n",
              "      <td>0</td>\n",
              "      <td>3</td>\n",
              "      <td>1</td>\n",
              "      <td>7</td>\n",
              "      <td>2</td>\n",
              "      <td>2.0</td>\n",
              "      <td>528.0</td>\n",
              "      <td>210</td>\n",
              "      <td>62</td>\n",
              "      <td>0</td>\n",
              "      <td>0</td>\n",
              "      <td>0</td>\n",
              "      <td>0</td>\n",
              "      <td>20</td>\n",
              "      <td>0</td>\n",
              "    </tr>\n",
              "    <tr>\n",
              "      <th>1</th>\n",
              "      <td>0.0</td>\n",
              "      <td>0.0</td>\n",
              "      <td>468.0</td>\n",
              "      <td>144.0</td>\n",
              "      <td>270.0</td>\n",
              "      <td>882.0</td>\n",
              "      <td>0.0</td>\n",
              "      <td>0</td>\n",
              "      <td>11622</td>\n",
              "      <td>5</td>\n",
              "      <td>6</td>\n",
              "      <td>896</td>\n",
              "      <td>0</td>\n",
              "      <td>0</td>\n",
              "      <td>896</td>\n",
              "      <td>105000</td>\n",
              "      <td>1</td>\n",
              "      <td>0</td>\n",
              "      <td>2</td>\n",
              "      <td>1</td>\n",
              "      <td>5</td>\n",
              "      <td>0</td>\n",
              "      <td>1.0</td>\n",
              "      <td>730.0</td>\n",
              "      <td>140</td>\n",
              "      <td>0</td>\n",
              "      <td>0</td>\n",
              "      <td>0</td>\n",
              "      <td>120</td>\n",
              "      <td>0</td>\n",
              "      <td>20</td>\n",
              "      <td>0</td>\n",
              "    </tr>\n",
              "    <tr>\n",
              "      <th>2</th>\n",
              "      <td>108.0</td>\n",
              "      <td>0.0</td>\n",
              "      <td>923.0</td>\n",
              "      <td>0.0</td>\n",
              "      <td>406.0</td>\n",
              "      <td>1329.0</td>\n",
              "      <td>0.0</td>\n",
              "      <td>12500</td>\n",
              "      <td>14267</td>\n",
              "      <td>6</td>\n",
              "      <td>6</td>\n",
              "      <td>1329</td>\n",
              "      <td>0</td>\n",
              "      <td>0</td>\n",
              "      <td>1329</td>\n",
              "      <td>172000</td>\n",
              "      <td>1</td>\n",
              "      <td>1</td>\n",
              "      <td>3</td>\n",
              "      <td>1</td>\n",
              "      <td>6</td>\n",
              "      <td>0</td>\n",
              "      <td>1.0</td>\n",
              "      <td>312.0</td>\n",
              "      <td>393</td>\n",
              "      <td>36</td>\n",
              "      <td>0</td>\n",
              "      <td>0</td>\n",
              "      <td>0</td>\n",
              "      <td>0</td>\n",
              "      <td>20</td>\n",
              "      <td>0</td>\n",
              "    </tr>\n",
              "    <tr>\n",
              "      <th>3</th>\n",
              "      <td>0.0</td>\n",
              "      <td>0.0</td>\n",
              "      <td>1065.0</td>\n",
              "      <td>0.0</td>\n",
              "      <td>1045.0</td>\n",
              "      <td>2110.0</td>\n",
              "      <td>1.0</td>\n",
              "      <td>0</td>\n",
              "      <td>11160</td>\n",
              "      <td>7</td>\n",
              "      <td>5</td>\n",
              "      <td>2110</td>\n",
              "      <td>0</td>\n",
              "      <td>0</td>\n",
              "      <td>2110</td>\n",
              "      <td>244000</td>\n",
              "      <td>2</td>\n",
              "      <td>1</td>\n",
              "      <td>3</td>\n",
              "      <td>1</td>\n",
              "      <td>8</td>\n",
              "      <td>2</td>\n",
              "      <td>2.0</td>\n",
              "      <td>522.0</td>\n",
              "      <td>0</td>\n",
              "      <td>0</td>\n",
              "      <td>0</td>\n",
              "      <td>0</td>\n",
              "      <td>0</td>\n",
              "      <td>0</td>\n",
              "      <td>20</td>\n",
              "      <td>0</td>\n",
              "    </tr>\n",
              "    <tr>\n",
              "      <th>4</th>\n",
              "      <td>0.0</td>\n",
              "      <td>0.0</td>\n",
              "      <td>791.0</td>\n",
              "      <td>0.0</td>\n",
              "      <td>137.0</td>\n",
              "      <td>928.0</td>\n",
              "      <td>0.0</td>\n",
              "      <td>0</td>\n",
              "      <td>13830</td>\n",
              "      <td>5</td>\n",
              "      <td>5</td>\n",
              "      <td>928</td>\n",
              "      <td>701</td>\n",
              "      <td>0</td>\n",
              "      <td>1629</td>\n",
              "      <td>189900</td>\n",
              "      <td>2</td>\n",
              "      <td>1</td>\n",
              "      <td>3</td>\n",
              "      <td>1</td>\n",
              "      <td>6</td>\n",
              "      <td>1</td>\n",
              "      <td>2.0</td>\n",
              "      <td>482.0</td>\n",
              "      <td>212</td>\n",
              "      <td>34</td>\n",
              "      <td>0</td>\n",
              "      <td>0</td>\n",
              "      <td>0</td>\n",
              "      <td>0</td>\n",
              "      <td>60</td>\n",
              "      <td>1</td>\n",
              "    </tr>\n",
              "  </tbody>\n",
              "</table>\n",
              "</div>"
            ],
            "text/plain": [
              "   Mas Vnr Area  Bsmt Half Bath  ...  MS SubClass  years_until_remod\n",
              "0         112.0             0.0  ...           20                  0\n",
              "1           0.0             0.0  ...           20                  0\n",
              "2         108.0             0.0  ...           20                  0\n",
              "3           0.0             0.0  ...           20                  0\n",
              "4           0.0             0.0  ...           60                  1\n",
              "\n",
              "[5 rows x 32 columns]"
            ]
          },
          "metadata": {},
          "execution_count": 11
        }
      ]
    },
    {
      "cell_type": "code",
      "metadata": {
        "colab": {
          "base_uri": "https://localhost:8080/"
        },
        "id": "cd8GMjSW6sCU",
        "outputId": "2b868494-72b8-4c3b-d37c-897794e294c0"
      },
      "source": [
        "subset_train.shape"
      ],
      "execution_count": null,
      "outputs": [
        {
          "output_type": "execute_result",
          "data": {
            "text/plain": [
              "(1460, 32)"
            ]
          },
          "metadata": {},
          "execution_count": 12
        }
      ]
    },
    {
      "cell_type": "code",
      "metadata": {
        "colab": {
          "base_uri": "https://localhost:8080/",
          "height": 261
        },
        "id": "IgMbkmwJHygd",
        "outputId": "00134d31-6362-45ae-eb63-b02ab4dc4de0"
      },
      "source": [
        "# select columns that have a datatype of object\n",
        "\n",
        "text_train = transform_features().select_dtypes(include=['object']) # select columns with object dtype \n",
        "text_train.head()"
      ],
      "execution_count": null,
      "outputs": [
        {
          "output_type": "execute_result",
          "data": {
            "text/html": [
              "<div>\n",
              "<style scoped>\n",
              "    .dataframe tbody tr th:only-of-type {\n",
              "        vertical-align: middle;\n",
              "    }\n",
              "\n",
              "    .dataframe tbody tr th {\n",
              "        vertical-align: top;\n",
              "    }\n",
              "\n",
              "    .dataframe thead th {\n",
              "        text-align: right;\n",
              "    }\n",
              "</style>\n",
              "<table border=\"1\" class=\"dataframe\">\n",
              "  <thead>\n",
              "    <tr style=\"text-align: right;\">\n",
              "      <th></th>\n",
              "      <th>MS Zoning</th>\n",
              "      <th>Street</th>\n",
              "      <th>Alley</th>\n",
              "      <th>Lot Shape</th>\n",
              "      <th>Land Contour</th>\n",
              "      <th>Utilities</th>\n",
              "      <th>Lot Config</th>\n",
              "      <th>Land Slope</th>\n",
              "      <th>Neighborhood</th>\n",
              "      <th>Condition 1</th>\n",
              "      <th>Condition 2</th>\n",
              "      <th>Bldg Type</th>\n",
              "      <th>House Style</th>\n",
              "      <th>Roof Style</th>\n",
              "      <th>Roof Matl</th>\n",
              "      <th>Exterior 1st</th>\n",
              "      <th>Exterior 2nd</th>\n",
              "      <th>Mas Vnr Type</th>\n",
              "      <th>Exter Qual</th>\n",
              "      <th>Exter Cond</th>\n",
              "      <th>Foundation</th>\n",
              "      <th>Bsmt Qual</th>\n",
              "      <th>Bsmt Cond</th>\n",
              "      <th>Bsmt Exposure</th>\n",
              "      <th>BsmtFin Type 1</th>\n",
              "      <th>BsmtFin Type 2</th>\n",
              "      <th>Heating</th>\n",
              "      <th>Heating QC</th>\n",
              "      <th>Central Air</th>\n",
              "      <th>Electrical</th>\n",
              "      <th>Kitchen Qual</th>\n",
              "      <th>Functional</th>\n",
              "      <th>Fireplace Qu</th>\n",
              "      <th>Garage Type</th>\n",
              "      <th>Garage Finish</th>\n",
              "      <th>Garage Qual</th>\n",
              "      <th>Garage Cond</th>\n",
              "      <th>Paved Drive</th>\n",
              "      <th>Pool QC</th>\n",
              "      <th>Fence</th>\n",
              "      <th>Misc Feature</th>\n",
              "      <th>Sale Type</th>\n",
              "      <th>Sale Condition</th>\n",
              "    </tr>\n",
              "  </thead>\n",
              "  <tbody>\n",
              "    <tr>\n",
              "      <th>0</th>\n",
              "      <td>RL</td>\n",
              "      <td>Pave</td>\n",
              "      <td>NaN</td>\n",
              "      <td>IR1</td>\n",
              "      <td>Lvl</td>\n",
              "      <td>AllPub</td>\n",
              "      <td>Corner</td>\n",
              "      <td>Gtl</td>\n",
              "      <td>NAmes</td>\n",
              "      <td>Norm</td>\n",
              "      <td>Norm</td>\n",
              "      <td>1Fam</td>\n",
              "      <td>1Story</td>\n",
              "      <td>Hip</td>\n",
              "      <td>CompShg</td>\n",
              "      <td>BrkFace</td>\n",
              "      <td>Plywood</td>\n",
              "      <td>Stone</td>\n",
              "      <td>TA</td>\n",
              "      <td>TA</td>\n",
              "      <td>CBlock</td>\n",
              "      <td>TA</td>\n",
              "      <td>Gd</td>\n",
              "      <td>Gd</td>\n",
              "      <td>BLQ</td>\n",
              "      <td>Unf</td>\n",
              "      <td>GasA</td>\n",
              "      <td>Fa</td>\n",
              "      <td>Y</td>\n",
              "      <td>SBrkr</td>\n",
              "      <td>TA</td>\n",
              "      <td>Typ</td>\n",
              "      <td>Gd</td>\n",
              "      <td>Attchd</td>\n",
              "      <td>Fin</td>\n",
              "      <td>TA</td>\n",
              "      <td>TA</td>\n",
              "      <td>P</td>\n",
              "      <td>NaN</td>\n",
              "      <td>NaN</td>\n",
              "      <td>NaN</td>\n",
              "      <td>WD</td>\n",
              "      <td>Normal</td>\n",
              "    </tr>\n",
              "    <tr>\n",
              "      <th>1</th>\n",
              "      <td>RH</td>\n",
              "      <td>Pave</td>\n",
              "      <td>NaN</td>\n",
              "      <td>Reg</td>\n",
              "      <td>Lvl</td>\n",
              "      <td>AllPub</td>\n",
              "      <td>Inside</td>\n",
              "      <td>Gtl</td>\n",
              "      <td>NAmes</td>\n",
              "      <td>Feedr</td>\n",
              "      <td>Norm</td>\n",
              "      <td>1Fam</td>\n",
              "      <td>1Story</td>\n",
              "      <td>Gable</td>\n",
              "      <td>CompShg</td>\n",
              "      <td>VinylSd</td>\n",
              "      <td>VinylSd</td>\n",
              "      <td>None</td>\n",
              "      <td>TA</td>\n",
              "      <td>TA</td>\n",
              "      <td>CBlock</td>\n",
              "      <td>TA</td>\n",
              "      <td>TA</td>\n",
              "      <td>No</td>\n",
              "      <td>Rec</td>\n",
              "      <td>LwQ</td>\n",
              "      <td>GasA</td>\n",
              "      <td>TA</td>\n",
              "      <td>Y</td>\n",
              "      <td>SBrkr</td>\n",
              "      <td>TA</td>\n",
              "      <td>Typ</td>\n",
              "      <td>NaN</td>\n",
              "      <td>Attchd</td>\n",
              "      <td>Unf</td>\n",
              "      <td>TA</td>\n",
              "      <td>TA</td>\n",
              "      <td>Y</td>\n",
              "      <td>NaN</td>\n",
              "      <td>MnPrv</td>\n",
              "      <td>NaN</td>\n",
              "      <td>WD</td>\n",
              "      <td>Normal</td>\n",
              "    </tr>\n",
              "    <tr>\n",
              "      <th>2</th>\n",
              "      <td>RL</td>\n",
              "      <td>Pave</td>\n",
              "      <td>NaN</td>\n",
              "      <td>IR1</td>\n",
              "      <td>Lvl</td>\n",
              "      <td>AllPub</td>\n",
              "      <td>Corner</td>\n",
              "      <td>Gtl</td>\n",
              "      <td>NAmes</td>\n",
              "      <td>Norm</td>\n",
              "      <td>Norm</td>\n",
              "      <td>1Fam</td>\n",
              "      <td>1Story</td>\n",
              "      <td>Hip</td>\n",
              "      <td>CompShg</td>\n",
              "      <td>Wd Sdng</td>\n",
              "      <td>Wd Sdng</td>\n",
              "      <td>BrkFace</td>\n",
              "      <td>TA</td>\n",
              "      <td>TA</td>\n",
              "      <td>CBlock</td>\n",
              "      <td>TA</td>\n",
              "      <td>TA</td>\n",
              "      <td>No</td>\n",
              "      <td>ALQ</td>\n",
              "      <td>Unf</td>\n",
              "      <td>GasA</td>\n",
              "      <td>TA</td>\n",
              "      <td>Y</td>\n",
              "      <td>SBrkr</td>\n",
              "      <td>Gd</td>\n",
              "      <td>Typ</td>\n",
              "      <td>NaN</td>\n",
              "      <td>Attchd</td>\n",
              "      <td>Unf</td>\n",
              "      <td>TA</td>\n",
              "      <td>TA</td>\n",
              "      <td>Y</td>\n",
              "      <td>NaN</td>\n",
              "      <td>NaN</td>\n",
              "      <td>Gar2</td>\n",
              "      <td>WD</td>\n",
              "      <td>Normal</td>\n",
              "    </tr>\n",
              "    <tr>\n",
              "      <th>3</th>\n",
              "      <td>RL</td>\n",
              "      <td>Pave</td>\n",
              "      <td>NaN</td>\n",
              "      <td>Reg</td>\n",
              "      <td>Lvl</td>\n",
              "      <td>AllPub</td>\n",
              "      <td>Corner</td>\n",
              "      <td>Gtl</td>\n",
              "      <td>NAmes</td>\n",
              "      <td>Norm</td>\n",
              "      <td>Norm</td>\n",
              "      <td>1Fam</td>\n",
              "      <td>1Story</td>\n",
              "      <td>Hip</td>\n",
              "      <td>CompShg</td>\n",
              "      <td>BrkFace</td>\n",
              "      <td>BrkFace</td>\n",
              "      <td>None</td>\n",
              "      <td>Gd</td>\n",
              "      <td>TA</td>\n",
              "      <td>CBlock</td>\n",
              "      <td>TA</td>\n",
              "      <td>TA</td>\n",
              "      <td>No</td>\n",
              "      <td>ALQ</td>\n",
              "      <td>Unf</td>\n",
              "      <td>GasA</td>\n",
              "      <td>Ex</td>\n",
              "      <td>Y</td>\n",
              "      <td>SBrkr</td>\n",
              "      <td>Ex</td>\n",
              "      <td>Typ</td>\n",
              "      <td>TA</td>\n",
              "      <td>Attchd</td>\n",
              "      <td>Fin</td>\n",
              "      <td>TA</td>\n",
              "      <td>TA</td>\n",
              "      <td>Y</td>\n",
              "      <td>NaN</td>\n",
              "      <td>NaN</td>\n",
              "      <td>NaN</td>\n",
              "      <td>WD</td>\n",
              "      <td>Normal</td>\n",
              "    </tr>\n",
              "    <tr>\n",
              "      <th>4</th>\n",
              "      <td>RL</td>\n",
              "      <td>Pave</td>\n",
              "      <td>NaN</td>\n",
              "      <td>IR1</td>\n",
              "      <td>Lvl</td>\n",
              "      <td>AllPub</td>\n",
              "      <td>Inside</td>\n",
              "      <td>Gtl</td>\n",
              "      <td>Gilbert</td>\n",
              "      <td>Norm</td>\n",
              "      <td>Norm</td>\n",
              "      <td>1Fam</td>\n",
              "      <td>2Story</td>\n",
              "      <td>Gable</td>\n",
              "      <td>CompShg</td>\n",
              "      <td>VinylSd</td>\n",
              "      <td>VinylSd</td>\n",
              "      <td>None</td>\n",
              "      <td>TA</td>\n",
              "      <td>TA</td>\n",
              "      <td>PConc</td>\n",
              "      <td>Gd</td>\n",
              "      <td>TA</td>\n",
              "      <td>No</td>\n",
              "      <td>GLQ</td>\n",
              "      <td>Unf</td>\n",
              "      <td>GasA</td>\n",
              "      <td>Gd</td>\n",
              "      <td>Y</td>\n",
              "      <td>SBrkr</td>\n",
              "      <td>TA</td>\n",
              "      <td>Typ</td>\n",
              "      <td>TA</td>\n",
              "      <td>Attchd</td>\n",
              "      <td>Fin</td>\n",
              "      <td>TA</td>\n",
              "      <td>TA</td>\n",
              "      <td>Y</td>\n",
              "      <td>NaN</td>\n",
              "      <td>MnPrv</td>\n",
              "      <td>NaN</td>\n",
              "      <td>WD</td>\n",
              "      <td>Normal</td>\n",
              "    </tr>\n",
              "  </tbody>\n",
              "</table>\n",
              "</div>"
            ],
            "text/plain": [
              "  MS Zoning Street Alley Lot Shape  ...  Fence Misc Feature Sale Type Sale Condition\n",
              "0        RL   Pave   NaN       IR1  ...    NaN          NaN       WD          Normal\n",
              "1        RH   Pave   NaN       Reg  ...  MnPrv          NaN       WD          Normal\n",
              "2        RL   Pave   NaN       IR1  ...    NaN         Gar2       WD          Normal\n",
              "3        RL   Pave   NaN       Reg  ...    NaN          NaN       WD          Normal\n",
              "4        RL   Pave   NaN       IR1  ...  MnPrv          NaN       WD          Normal\n",
              "\n",
              "[5 rows x 43 columns]"
            ]
          },
          "metadata": {},
          "execution_count": 13
        }
      ]
    },
    {
      "cell_type": "code",
      "metadata": {
        "colab": {
          "base_uri": "https://localhost:8080/",
          "height": 365
        },
        "id": "bqnzNCNCIx5o",
        "outputId": "9e4df74b-452c-4198-9f58-ce7be88a9b86"
      },
      "source": [
        "# check shape of the text_train dataframe\n",
        "text_train.shape\n",
        "\n",
        "# chekf for null values\n",
        "text_null_series=text_train.isnull().sum().sort_values()\n",
        "text_null_series\n",
        "\n",
        "# filter out columns with more than 5% missing values\n",
        "text_good_cols = text_null_series[text_null_series < missing_values_threshold]\n",
        "subset_text_train = text_train[text_good_cols.index]\n",
        "subset_text_train.shape\n",
        "\n",
        "# populate null values in each column in the subset_text_train dataframe with mode value for the column.\n",
        "for column in subset_text_train:\n",
        "    if subset_text_train[column].isnull().any():\n",
        "        subset_text_train[column]=subset_text_train[column].fillna(subset_text_train[column].mode()[0])\n",
        "subset_text_train.isnull().sum()\n",
        "\n",
        "subset_text_train.head()"
      ],
      "execution_count": null,
      "outputs": [
        {
          "output_type": "stream",
          "name": "stderr",
          "text": [
            "/usr/local/lib/python3.7/dist-packages/ipykernel_launcher.py:16: SettingWithCopyWarning: \n",
            "A value is trying to be set on a copy of a slice from a DataFrame.\n",
            "Try using .loc[row_indexer,col_indexer] = value instead\n",
            "\n",
            "See the caveats in the documentation: https://pandas.pydata.org/pandas-docs/stable/user_guide/indexing.html#returning-a-view-versus-a-copy\n",
            "  app.launch_new_instance()\n"
          ]
        },
        {
          "output_type": "execute_result",
          "data": {
            "text/html": [
              "<div>\n",
              "<style scoped>\n",
              "    .dataframe tbody tr th:only-of-type {\n",
              "        vertical-align: middle;\n",
              "    }\n",
              "\n",
              "    .dataframe tbody tr th {\n",
              "        vertical-align: top;\n",
              "    }\n",
              "\n",
              "    .dataframe thead th {\n",
              "        text-align: right;\n",
              "    }\n",
              "</style>\n",
              "<table border=\"1\" class=\"dataframe\">\n",
              "  <thead>\n",
              "    <tr style=\"text-align: right;\">\n",
              "      <th></th>\n",
              "      <th>MS Zoning</th>\n",
              "      <th>Paved Drive</th>\n",
              "      <th>Functional</th>\n",
              "      <th>Kitchen Qual</th>\n",
              "      <th>Electrical</th>\n",
              "      <th>Central Air</th>\n",
              "      <th>Heating QC</th>\n",
              "      <th>Heating</th>\n",
              "      <th>Sale Type</th>\n",
              "      <th>Foundation</th>\n",
              "      <th>Exter Cond</th>\n",
              "      <th>Exter Qual</th>\n",
              "      <th>Exterior 2nd</th>\n",
              "      <th>Exterior 1st</th>\n",
              "      <th>Sale Condition</th>\n",
              "      <th>Roof Style</th>\n",
              "      <th>Street</th>\n",
              "      <th>Lot Shape</th>\n",
              "      <th>Land Contour</th>\n",
              "      <th>Roof Matl</th>\n",
              "      <th>Lot Config</th>\n",
              "      <th>Land Slope</th>\n",
              "      <th>Utilities</th>\n",
              "      <th>House Style</th>\n",
              "      <th>Neighborhood</th>\n",
              "      <th>Condition 1</th>\n",
              "      <th>Condition 2</th>\n",
              "      <th>Bldg Type</th>\n",
              "      <th>Mas Vnr Type</th>\n",
              "      <th>Bsmt Qual</th>\n",
              "      <th>BsmtFin Type 1</th>\n",
              "      <th>Bsmt Cond</th>\n",
              "      <th>Bsmt Exposure</th>\n",
              "      <th>BsmtFin Type 2</th>\n",
              "    </tr>\n",
              "  </thead>\n",
              "  <tbody>\n",
              "    <tr>\n",
              "      <th>0</th>\n",
              "      <td>RL</td>\n",
              "      <td>P</td>\n",
              "      <td>Typ</td>\n",
              "      <td>TA</td>\n",
              "      <td>SBrkr</td>\n",
              "      <td>Y</td>\n",
              "      <td>Fa</td>\n",
              "      <td>GasA</td>\n",
              "      <td>WD</td>\n",
              "      <td>CBlock</td>\n",
              "      <td>TA</td>\n",
              "      <td>TA</td>\n",
              "      <td>Plywood</td>\n",
              "      <td>BrkFace</td>\n",
              "      <td>Normal</td>\n",
              "      <td>Hip</td>\n",
              "      <td>Pave</td>\n",
              "      <td>IR1</td>\n",
              "      <td>Lvl</td>\n",
              "      <td>CompShg</td>\n",
              "      <td>Corner</td>\n",
              "      <td>Gtl</td>\n",
              "      <td>AllPub</td>\n",
              "      <td>1Story</td>\n",
              "      <td>NAmes</td>\n",
              "      <td>Norm</td>\n",
              "      <td>Norm</td>\n",
              "      <td>1Fam</td>\n",
              "      <td>Stone</td>\n",
              "      <td>TA</td>\n",
              "      <td>BLQ</td>\n",
              "      <td>Gd</td>\n",
              "      <td>Gd</td>\n",
              "      <td>Unf</td>\n",
              "    </tr>\n",
              "    <tr>\n",
              "      <th>1</th>\n",
              "      <td>RH</td>\n",
              "      <td>Y</td>\n",
              "      <td>Typ</td>\n",
              "      <td>TA</td>\n",
              "      <td>SBrkr</td>\n",
              "      <td>Y</td>\n",
              "      <td>TA</td>\n",
              "      <td>GasA</td>\n",
              "      <td>WD</td>\n",
              "      <td>CBlock</td>\n",
              "      <td>TA</td>\n",
              "      <td>TA</td>\n",
              "      <td>VinylSd</td>\n",
              "      <td>VinylSd</td>\n",
              "      <td>Normal</td>\n",
              "      <td>Gable</td>\n",
              "      <td>Pave</td>\n",
              "      <td>Reg</td>\n",
              "      <td>Lvl</td>\n",
              "      <td>CompShg</td>\n",
              "      <td>Inside</td>\n",
              "      <td>Gtl</td>\n",
              "      <td>AllPub</td>\n",
              "      <td>1Story</td>\n",
              "      <td>NAmes</td>\n",
              "      <td>Feedr</td>\n",
              "      <td>Norm</td>\n",
              "      <td>1Fam</td>\n",
              "      <td>None</td>\n",
              "      <td>TA</td>\n",
              "      <td>Rec</td>\n",
              "      <td>TA</td>\n",
              "      <td>No</td>\n",
              "      <td>LwQ</td>\n",
              "    </tr>\n",
              "    <tr>\n",
              "      <th>2</th>\n",
              "      <td>RL</td>\n",
              "      <td>Y</td>\n",
              "      <td>Typ</td>\n",
              "      <td>Gd</td>\n",
              "      <td>SBrkr</td>\n",
              "      <td>Y</td>\n",
              "      <td>TA</td>\n",
              "      <td>GasA</td>\n",
              "      <td>WD</td>\n",
              "      <td>CBlock</td>\n",
              "      <td>TA</td>\n",
              "      <td>TA</td>\n",
              "      <td>Wd Sdng</td>\n",
              "      <td>Wd Sdng</td>\n",
              "      <td>Normal</td>\n",
              "      <td>Hip</td>\n",
              "      <td>Pave</td>\n",
              "      <td>IR1</td>\n",
              "      <td>Lvl</td>\n",
              "      <td>CompShg</td>\n",
              "      <td>Corner</td>\n",
              "      <td>Gtl</td>\n",
              "      <td>AllPub</td>\n",
              "      <td>1Story</td>\n",
              "      <td>NAmes</td>\n",
              "      <td>Norm</td>\n",
              "      <td>Norm</td>\n",
              "      <td>1Fam</td>\n",
              "      <td>BrkFace</td>\n",
              "      <td>TA</td>\n",
              "      <td>ALQ</td>\n",
              "      <td>TA</td>\n",
              "      <td>No</td>\n",
              "      <td>Unf</td>\n",
              "    </tr>\n",
              "    <tr>\n",
              "      <th>3</th>\n",
              "      <td>RL</td>\n",
              "      <td>Y</td>\n",
              "      <td>Typ</td>\n",
              "      <td>Ex</td>\n",
              "      <td>SBrkr</td>\n",
              "      <td>Y</td>\n",
              "      <td>Ex</td>\n",
              "      <td>GasA</td>\n",
              "      <td>WD</td>\n",
              "      <td>CBlock</td>\n",
              "      <td>TA</td>\n",
              "      <td>Gd</td>\n",
              "      <td>BrkFace</td>\n",
              "      <td>BrkFace</td>\n",
              "      <td>Normal</td>\n",
              "      <td>Hip</td>\n",
              "      <td>Pave</td>\n",
              "      <td>Reg</td>\n",
              "      <td>Lvl</td>\n",
              "      <td>CompShg</td>\n",
              "      <td>Corner</td>\n",
              "      <td>Gtl</td>\n",
              "      <td>AllPub</td>\n",
              "      <td>1Story</td>\n",
              "      <td>NAmes</td>\n",
              "      <td>Norm</td>\n",
              "      <td>Norm</td>\n",
              "      <td>1Fam</td>\n",
              "      <td>None</td>\n",
              "      <td>TA</td>\n",
              "      <td>ALQ</td>\n",
              "      <td>TA</td>\n",
              "      <td>No</td>\n",
              "      <td>Unf</td>\n",
              "    </tr>\n",
              "    <tr>\n",
              "      <th>4</th>\n",
              "      <td>RL</td>\n",
              "      <td>Y</td>\n",
              "      <td>Typ</td>\n",
              "      <td>TA</td>\n",
              "      <td>SBrkr</td>\n",
              "      <td>Y</td>\n",
              "      <td>Gd</td>\n",
              "      <td>GasA</td>\n",
              "      <td>WD</td>\n",
              "      <td>PConc</td>\n",
              "      <td>TA</td>\n",
              "      <td>TA</td>\n",
              "      <td>VinylSd</td>\n",
              "      <td>VinylSd</td>\n",
              "      <td>Normal</td>\n",
              "      <td>Gable</td>\n",
              "      <td>Pave</td>\n",
              "      <td>IR1</td>\n",
              "      <td>Lvl</td>\n",
              "      <td>CompShg</td>\n",
              "      <td>Inside</td>\n",
              "      <td>Gtl</td>\n",
              "      <td>AllPub</td>\n",
              "      <td>2Story</td>\n",
              "      <td>Gilbert</td>\n",
              "      <td>Norm</td>\n",
              "      <td>Norm</td>\n",
              "      <td>1Fam</td>\n",
              "      <td>None</td>\n",
              "      <td>Gd</td>\n",
              "      <td>GLQ</td>\n",
              "      <td>TA</td>\n",
              "      <td>No</td>\n",
              "      <td>Unf</td>\n",
              "    </tr>\n",
              "  </tbody>\n",
              "</table>\n",
              "</div>"
            ],
            "text/plain": [
              "  MS Zoning Paved Drive Functional  ... Bsmt Cond Bsmt Exposure BsmtFin Type 2\n",
              "0        RL           P        Typ  ...        Gd            Gd            Unf\n",
              "1        RH           Y        Typ  ...        TA            No            LwQ\n",
              "2        RL           Y        Typ  ...        TA            No            Unf\n",
              "3        RL           Y        Typ  ...        TA            No            Unf\n",
              "4        RL           Y        Typ  ...        TA            No            Unf\n",
              "\n",
              "[5 rows x 34 columns]"
            ]
          },
          "metadata": {},
          "execution_count": 14
        }
      ]
    },
    {
      "cell_type": "code",
      "metadata": {
        "colab": {
          "base_uri": "https://localhost:8080/"
        },
        "id": "Bs8MmtbIIICB",
        "outputId": "e209f7cd-0811-470d-cc84-45a5b8f5a4df"
      },
      "source": [
        "\n",
        "subset_text_train.shape"
      ],
      "execution_count": null,
      "outputs": [
        {
          "output_type": "execute_result",
          "data": {
            "text/plain": [
              "(1460, 34)"
            ]
          },
          "metadata": {},
          "execution_count": 26
        }
      ]
    },
    {
      "cell_type": "markdown",
      "metadata": {
        "id": "c4fXZPVfd4IY"
      },
      "source": [
        "## 3. Feature Selection"
      ]
    },
    {
      "cell_type": "markdown",
      "metadata": {
        "id": "ZnGMP3LYd8fZ"
      },
      "source": [
        "Now that we have cleaned and transformed a lot of the features in the data set, it's time to move on to feature selection for numerical features.\n",
        "\n",
        "**Tasks**\n",
        "\n",
        "1. Generate a correlation heatmap matrix of the numerical features in the training data set.\n",
        "* Which features correlate strongly with our target column, `SalePrice`?\n",
        "* Calculate the correlation coefficients for the columns that seem to correlate well with `SalePrice`. Because we have a pipeline in place, it's easy to try different features and see which features result in a better cross validation score.\n",
        "\n",
        "2. Which columns in the data frame should be converted to the categorical data type? All of the columns that can be categorized as nominal variables are candidates for being converted to categorical. Here are some other things you should think about:\n",
        "* If a categorical column has hundreds of unique values (or categories), should you keep it? When you dummy code this column, hundreds of columns will need to be added back to the data frame.\n",
        "* Which categorical columns have a few unique values but more than 95% of the values in the column belong to a specific category? This would be similar to a low variance numerical feature (no variability in the data for the model to capture).\n",
        "\n",
        "3. Which columns are currently numerical but need to be encoded as categorical instead (because the numbers don't have any semantic meaning)?\n",
        "\n",
        "4. What are some ways we can explore which categorical columns \"correlate\" well with `SalePrice`?\n",
        "\n",
        "5. Update the logic for the `select_features()` function. This function should take in the new, modified train and test data frames that were returned from `transform_features()`."
      ]
    },
    {
      "cell_type": "code",
      "metadata": {
        "id": "fcR5-9-cemHN",
        "colab": {
          "base_uri": "https://localhost:8080/",
          "height": 352
        },
        "outputId": "ed563931-92f7-4b5e-e7ec-c81d25b9b019"
      },
      "source": [
        "# Your code goes here\n",
        "# define a correlation matrix of the train_subset and view the correlation matrix as a heat matrix\n",
        "corrmat = subset_train.corr()\n",
        "\n",
        "# check features that correlate strongly with SalePrice and sort the values\n",
        "sorted_corrs = corrmat['SalePrice'].abs().sort_values()\n",
        "\n",
        "# select columns that correlate well with SalePrice and where this is greater that 0.3\n",
        "strong_corrs = sorted_corrs[sorted_corrs > 0.3]\n",
        "corrmat = subset_train[strong_corrs.index].corr()\n",
        "sns.heatmap(corrmat)\n",
        "\n"
      ],
      "execution_count": null,
      "outputs": [
        {
          "output_type": "execute_result",
          "data": {
            "text/plain": [
              "<matplotlib.axes._subplots.AxesSubplot at 0x7f94dd4cb450>"
            ]
          },
          "metadata": {},
          "execution_count": 27
        },
        {
          "output_type": "display_data",
          "data": {
            "image/png": "[encoded data removed]",
            "text/plain": [
              "<Figure size 432x288 with 2 Axes>"
            ]
          },
          "metadata": {
            "needs_background": "light"
          }
        }
      ]
    },
    {
      "cell_type": "code",
      "metadata": {
        "id": "VFyQ-6nRi3kE"
      },
      "source": [
        "sorted_corrs"
      ],
      "execution_count": null,
      "outputs": []
    },
    {
      "cell_type": "code",
      "metadata": {
        "colab": {
          "base_uri": "https://localhost:8080/"
        },
        "id": "uODLlqya5vy3",
        "outputId": "beba3cf4-80ac-4e63-d571-098c73c847cc"
      },
      "source": [
        "# check for number of unique objects in the numerical columns\n",
        "numerical_cols= subset_train[strong_corrs.index].columns\n",
        "numerical_cols\n",
        "for col in numerical_cols:\n",
        "    print(col+\":\", len(subset_train[col].unique()))\n",
        "\n",
        "for col in numerical_cols:\n",
        "    subset_train[col] = subset_train[col].astype('category')"
      ],
      "execution_count": null,
      "outputs": [
        {
          "output_type": "stream",
          "name": "stdout",
          "text": [
            "Bsmt Full Bath: 4\n",
            "Wood Deck SF: 272\n",
            "Open Porch SF: 195\n",
            "TotRms AbvGrd: 11\n",
            "Fireplaces: 4\n",
            "BsmtFin SF 1: 668\n",
            "Mas Vnr Area: 304\n",
            "Full Bath: 5\n",
            "1st Flr SF: 764\n",
            "Garage Area: 442\n",
            "Garage Cars: 6\n",
            "Total Bsmt SF: 728\n",
            "Gr Liv Area: 880\n",
            "Overall Qual: 10\n",
            "SalePrice: 644\n"
          ]
        }
      ]
    },
    {
      "cell_type": "code",
      "metadata": {
        "colab": {
          "base_uri": "https://localhost:8080/"
        },
        "id": "LER4AMEALRvi",
        "outputId": "12b6d865-2450-4146-f815-0f2d6e2a967c"
      },
      "source": [
        "# for columns that have low unique values, check on the distribution of the unique values\n",
        "bsmt = subset_train['Bsmt Full Bath'].unique()\n",
        "print(\"Bsmt Full Bath :\", bsmt)\n",
        "print(subset_train['Bsmt Full Bath'].cat.codes.value_counts())\n",
        "\n",
        "TotRms = subset_train['TotRms AbvGrd'].unique()\n",
        "print(\"TotRms AbvGrd :\", TotRms)\n",
        "print(subset_train['TotRms AbvGrd'].cat.codes.value_counts())\n",
        "\n",
        "Firep = subset_train['Fireplaces'].unique()\n",
        "print(\"Fireplaces :\", Firep)\n",
        "print(subset_train['Fireplaces'].cat.codes.value_counts())\n",
        "\n",
        "FullBath = subset_train['Full Bath'].unique()\n",
        "print(\"Full Bath :\", FullBath)\n",
        "print(subset_train['Full Bath'].cat.codes.value_counts())\n",
        "\n",
        "garage = subset_train['Garage Cars'].unique()\n",
        "print(\"Garage Cars :\", garage)\n",
        "print(subset_train['Garage Cars'].cat.codes.value_counts())\n",
        "\n",
        "OverallQ = subset_train['Overall Qual'].unique()\n",
        "print(\"Overall Qual :\", OverallQ)\n",
        "print(subset_train['Overall Qual'].cat.codes.value_counts())"
      ],
      "execution_count": null,
      "outputs": [
        {
          "output_type": "stream",
          "name": "stdout",
          "text": [
            "Bsmt Full Bath : [1.0, 0.0, 2.0, 3.0]\n",
            "Categories (4, float64): [1.0, 0.0, 2.0, 3.0]\n",
            "0    829\n",
            "1    610\n",
            "2     19\n",
            "3      2\n",
            "dtype: int64\n",
            "TotRms AbvGrd : [7, 5, 6, 8, 4, ..., 10, 11, 9, 3, 13]\n",
            "Length: 11\n",
            "Categories (11, int64): [7, 5, 6, 8, ..., 11, 9, 3, 13]\n",
            "3     411\n",
            "4     330\n",
            "2     307\n",
            "5     168\n",
            "1     106\n",
            "6      66\n",
            "7      37\n",
            "8      14\n",
            "9      10\n",
            "0      10\n",
            "10      1\n",
            "dtype: int64\n",
            "Fireplaces : [2, 0, 1, 3]\n",
            "Categories (4, int64): [2, 0, 1, 3]\n",
            "0    717\n",
            "1    621\n",
            "2    118\n",
            "3      4\n",
            "dtype: int64\n",
            "Full Bath : [1, 2, 3, 0, 4]\n",
            "Categories (5, int64): [1, 2, 3, 0, 4]\n",
            "2    780\n",
            "1    650\n",
            "3     20\n",
            "0      6\n",
            "4      4\n",
            "dtype: int64\n",
            "Garage Cars : [2.0, 1.0, 3.0, 0.0, 4.0, 5.0]\n",
            "Categories (6, float64): [2.0, 1.0, 3.0, 0.0, 4.0, 5.0]\n",
            "2    815\n",
            "1    386\n",
            "3    175\n",
            "0     74\n",
            "4      9\n",
            "5      1\n",
            "dtype: int64\n",
            "Overall Qual : [6, 5, 7, 8, 9, 4, 3, 2, 10, 1]\n",
            "Categories (10, int64): [6, 5, 7, 8, ..., 3, 2, 10, 1]\n",
            "4    408\n",
            "5    376\n",
            "6    303\n",
            "7    164\n",
            "3    104\n",
            "8     62\n",
            "2     18\n",
            "9     14\n",
            "1     10\n",
            "0      1\n",
            "dtype: int64\n"
          ]
        }
      ]
    },
    {
      "cell_type": "markdown",
      "metadata": {
        "id": "r3_CgSOSfXsh"
      },
      "source": [
        "None of the unique elements in the columns hold above 60% of the data"
      ]
    },
    {
      "cell_type": "code",
      "metadata": {
        "colab": {
          "base_uri": "https://localhost:8080/",
          "height": 224
        },
        "id": "x0AaHdAd7AZc",
        "outputId": "c2840b05-f255-45af-f063-7bc765ba1968"
      },
      "source": [
        "# new train dataframe based on columns with strong correlation with SalePrice\n",
        "subset_train = subset_train[numerical_cols]\n",
        "subset_train.head()"
      ],
      "execution_count": null,
      "outputs": [
        {
          "output_type": "execute_result",
          "data": {
            "text/html": [
              "<div>\n",
              "<style scoped>\n",
              "    .dataframe tbody tr th:only-of-type {\n",
              "        vertical-align: middle;\n",
              "    }\n",
              "\n",
              "    .dataframe tbody tr th {\n",
              "        vertical-align: top;\n",
              "    }\n",
              "\n",
              "    .dataframe thead th {\n",
              "        text-align: right;\n",
              "    }\n",
              "</style>\n",
              "<table border=\"1\" class=\"dataframe\">\n",
              "  <thead>\n",
              "    <tr style=\"text-align: right;\">\n",
              "      <th></th>\n",
              "      <th>Bsmt Full Bath</th>\n",
              "      <th>Wood Deck SF</th>\n",
              "      <th>Open Porch SF</th>\n",
              "      <th>TotRms AbvGrd</th>\n",
              "      <th>Fireplaces</th>\n",
              "      <th>BsmtFin SF 1</th>\n",
              "      <th>Mas Vnr Area</th>\n",
              "      <th>Full Bath</th>\n",
              "      <th>1st Flr SF</th>\n",
              "      <th>Garage Area</th>\n",
              "      <th>Garage Cars</th>\n",
              "      <th>Total Bsmt SF</th>\n",
              "      <th>Gr Liv Area</th>\n",
              "      <th>Overall Qual</th>\n",
              "      <th>SalePrice</th>\n",
              "    </tr>\n",
              "  </thead>\n",
              "  <tbody>\n",
              "    <tr>\n",
              "      <th>0</th>\n",
              "      <td>1.0</td>\n",
              "      <td>210</td>\n",
              "      <td>62</td>\n",
              "      <td>7</td>\n",
              "      <td>2</td>\n",
              "      <td>639.0</td>\n",
              "      <td>112.0</td>\n",
              "      <td>1</td>\n",
              "      <td>1656</td>\n",
              "      <td>528.0</td>\n",
              "      <td>2.0</td>\n",
              "      <td>1080.0</td>\n",
              "      <td>1656</td>\n",
              "      <td>6</td>\n",
              "      <td>215000</td>\n",
              "    </tr>\n",
              "    <tr>\n",
              "      <th>1</th>\n",
              "      <td>0.0</td>\n",
              "      <td>140</td>\n",
              "      <td>0</td>\n",
              "      <td>5</td>\n",
              "      <td>0</td>\n",
              "      <td>468.0</td>\n",
              "      <td>0.0</td>\n",
              "      <td>1</td>\n",
              "      <td>896</td>\n",
              "      <td>730.0</td>\n",
              "      <td>1.0</td>\n",
              "      <td>882.0</td>\n",
              "      <td>896</td>\n",
              "      <td>5</td>\n",
              "      <td>105000</td>\n",
              "    </tr>\n",
              "    <tr>\n",
              "      <th>2</th>\n",
              "      <td>0.0</td>\n",
              "      <td>393</td>\n",
              "      <td>36</td>\n",
              "      <td>6</td>\n",
              "      <td>0</td>\n",
              "      <td>923.0</td>\n",
              "      <td>108.0</td>\n",
              "      <td>1</td>\n",
              "      <td>1329</td>\n",
              "      <td>312.0</td>\n",
              "      <td>1.0</td>\n",
              "      <td>1329.0</td>\n",
              "      <td>1329</td>\n",
              "      <td>6</td>\n",
              "      <td>172000</td>\n",
              "    </tr>\n",
              "    <tr>\n",
              "      <th>3</th>\n",
              "      <td>1.0</td>\n",
              "      <td>0</td>\n",
              "      <td>0</td>\n",
              "      <td>8</td>\n",
              "      <td>2</td>\n",
              "      <td>1065.0</td>\n",
              "      <td>0.0</td>\n",
              "      <td>2</td>\n",
              "      <td>2110</td>\n",
              "      <td>522.0</td>\n",
              "      <td>2.0</td>\n",
              "      <td>2110.0</td>\n",
              "      <td>2110</td>\n",
              "      <td>7</td>\n",
              "      <td>244000</td>\n",
              "    </tr>\n",
              "    <tr>\n",
              "      <th>4</th>\n",
              "      <td>0.0</td>\n",
              "      <td>212</td>\n",
              "      <td>34</td>\n",
              "      <td>6</td>\n",
              "      <td>1</td>\n",
              "      <td>791.0</td>\n",
              "      <td>0.0</td>\n",
              "      <td>2</td>\n",
              "      <td>928</td>\n",
              "      <td>482.0</td>\n",
              "      <td>2.0</td>\n",
              "      <td>928.0</td>\n",
              "      <td>1629</td>\n",
              "      <td>5</td>\n",
              "      <td>189900</td>\n",
              "    </tr>\n",
              "  </tbody>\n",
              "</table>\n",
              "</div>"
            ],
            "text/plain": [
              "  Bsmt Full Bath Wood Deck SF Open Porch SF  ... Gr Liv Area Overall Qual SalePrice\n",
              "0            1.0          210            62  ...        1656            6    215000\n",
              "1            0.0          140             0  ...         896            5    105000\n",
              "2            0.0          393            36  ...        1329            6    172000\n",
              "3            1.0            0             0  ...        2110            7    244000\n",
              "4            0.0          212            34  ...        1629            5    189900\n",
              "\n",
              "[5 rows x 15 columns]"
            ]
          },
          "metadata": {},
          "execution_count": 48
        }
      ]
    },
    {
      "cell_type": "markdown",
      "metadata": {
        "id": "oSQfERTDI3zF"
      },
      "source": [
        "We have our preferred 15 numerical columns"
      ]
    },
    {
      "cell_type": "code",
      "metadata": {
        "colab": {
          "base_uri": "https://localhost:8080/"
        },
        "id": "HWIFPzabVIbW",
        "outputId": "ab97a124-5fb0-4bde-84ec-e02c58b1fed8"
      },
      "source": [
        "print(train.var().sort_values)"
      ],
      "execution_count": null,
      "outputs": [
        {
          "output_type": "stream",
          "name": "stdout",
          "text": [
            "<bound method Series.sort_values of Series([], dtype: float64)>\n"
          ]
        }
      ]
    },
    {
      "cell_type": "code",
      "metadata": {
        "colab": {
          "base_uri": "https://localhost:8080/"
        },
        "id": "vpJSG9XPWuYG",
        "outputId": "0557fade-413c-4399-a8fa-9243a685bed4"
      },
      "source": [
        "# get the columns from the text columns dataset\n",
        "text_train_cols = subset_text_train.columns\n",
        "text_train_cols\n",
        "\n",
        "# check for number of unique objects in the text columns\n",
        "for col in text_train_cols:\n",
        "    print(col+\":\", len(subset_text_train[col].unique()))\n",
        "    text_train[col] = subset_text_train[col].astype('category')"
      ],
      "execution_count": null,
      "outputs": [
        {
          "output_type": "stream",
          "name": "stdout",
          "text": [
            "MS Zoning: 6\n",
            "Paved Drive: 3\n",
            "Functional: 7\n",
            "Kitchen Qual: 5\n",
            "Electrical: 4\n",
            "Central Air: 2\n",
            "Heating QC: 4\n",
            "Heating: 6\n",
            "Sale Type: 9\n",
            "Foundation: 6\n",
            "Exter Cond: 5\n",
            "Exter Qual: 4\n",
            "Exterior 2nd: 16\n",
            "Exterior 1st: 14\n",
            "Sale Condition: 5\n",
            "Roof Style: 6\n",
            "Street: 2\n",
            "Lot Shape: 4\n",
            "Land Contour: 4\n",
            "Roof Matl: 5\n",
            "Lot Config: 5\n",
            "Land Slope: 3\n",
            "Utilities: 3\n",
            "House Style: 8\n",
            "Neighborhood: 26\n",
            "Condition 1: 9\n",
            "Condition 2: 6\n",
            "Bldg Type: 5\n",
            "Mas Vnr Type: 4\n",
            "Bsmt Qual: 4\n",
            "BsmtFin Type 1: 6\n",
            "Bsmt Cond: 5\n",
            "Bsmt Exposure: 4\n",
            "BsmtFin Type 2: 6\n"
          ]
        },
        {
          "output_type": "stream",
          "name": "stderr",
          "text": [
            "/usr/local/lib/python3.7/dist-packages/ipykernel_launcher.py:8: SettingWithCopyWarning: \n",
            "A value is trying to be set on a copy of a slice from a DataFrame.\n",
            "Try using .loc[row_indexer,col_indexer] = value instead\n",
            "\n",
            "See the caveats in the documentation: https://pandas.pydata.org/pandas-docs/stable/user_guide/indexing.html#returning-a-view-versus-a-copy\n",
            "  \n"
          ]
        }
      ]
    },
    {
      "cell_type": "code",
      "metadata": {
        "id": "a6fTiyjHcUQi"
      },
      "source": [
        "# convert text data columns to numerical using one hot encoding\n",
        "text_train_df = pd.get_dummies(subset_text_train)\n",
        "\n",
        "# bring in the sales price column so that we can use it to check those text columns that have a correlation of <2 after one hot encoding\n",
        "text_train_df['SalePrice'] = train['SalePrice']\n",
        "text_train_df.head()\n",
        "corrmat2 = text_train_df.corr()\n",
        "\n",
        "# check features that correlate strongly with SalePrice and sort the values\n",
        "sorted_corrs2 = corrmat2['SalePrice'].abs().sort_values(ascending=False)\n",
        "strong_corrs2 = sorted_corrs2[sorted_corrs2 > 0.2]\n",
        "text_train_df2 =  text_train_df[strong_corrs2.index]\n",
        "text_train_df2 = text_train_df2.drop(['SalePrice'], axis=1)\n",
        "text_train_df2.head()\n",
        "\n",
        "# text_train_df2.shape\n",
        "# subset_train.shape\n",
        "\n",
        "# concat the final train numerical and train text datata frames.\n",
        "final_train_df = pd.concat([subset_train, text_train_df2], axis=1)\n",
        "final_train_df.head()\n",
        "\n",
        "# Extract the prefered columns\n",
        "final_train_df_cols = final_train_df.columns\n",
        "# final_train_df_cols\n"
      ],
      "execution_count": null,
      "outputs": []
    },
    {
      "cell_type": "code",
      "metadata": {
        "colab": {
          "base_uri": "https://localhost:8080/"
        },
        "id": "DaYOvckOELoW",
        "outputId": "52b021ec-8f8a-4b1f-fb34-8920d043a8f6"
      },
      "source": [
        "final_train_df.shape"
      ],
      "execution_count": null,
      "outputs": [
        {
          "output_type": "execute_result",
          "data": {
            "text/plain": [
              "(1460, 54)"
            ]
          },
          "metadata": {},
          "execution_count": 51
        }
      ]
    },
    {
      "cell_type": "code",
      "metadata": {
        "colab": {
          "base_uri": "https://localhost:8080/"
        },
        "id": "s1LjWcztIic9",
        "outputId": "b4bf3c34-194b-4108-a05d-e0fce0506cb3"
      },
      "source": [
        "subset_text_train.shape"
      ],
      "execution_count": null,
      "outputs": [
        {
          "output_type": "execute_result",
          "data": {
            "text/plain": [
              "(1460, 34)"
            ]
          },
          "metadata": {},
          "execution_count": 52
        }
      ]
    },
    {
      "cell_type": "code",
      "metadata": {
        "colab": {
          "base_uri": "https://localhost:8080/"
        },
        "id": "O5af-guZmflP",
        "outputId": "4aa31c16-32fd-42b1-f2cc-cc42dd91c5b5"
      },
      "source": [
        "# check text train data columns\n",
        "subset_text_train_cols = text_train[text_good_cols.index].columns\n",
        "subset_text_train_cols\n"
      ],
      "execution_count": null,
      "outputs": [
        {
          "output_type": "execute_result",
          "data": {
            "text/plain": [
              "Index(['MS Zoning', 'Paved Drive', 'Functional', 'Kitchen Qual', 'Electrical',\n",
              "       'Central Air', 'Heating QC', 'Heating', 'Sale Type', 'Foundation',\n",
              "       'Exter Cond', 'Exter Qual', 'Exterior 2nd', 'Exterior 1st',\n",
              "       'Sale Condition', 'Roof Style', 'Street', 'Lot Shape', 'Land Contour',\n",
              "       'Roof Matl', 'Lot Config', 'Land Slope', 'Utilities', 'House Style',\n",
              "       'Neighborhood', 'Condition 1', 'Condition 2', 'Bldg Type',\n",
              "       'Mas Vnr Type', 'Bsmt Qual', 'BsmtFin Type 1', 'Bsmt Cond',\n",
              "       'Bsmt Exposure', 'BsmtFin Type 2'],\n",
              "      dtype='object')"
            ]
          },
          "metadata": {},
          "execution_count": 57
        }
      ]
    },
    {
      "cell_type": "code",
      "metadata": {
        "colab": {
          "base_uri": "https://localhost:8080/"
        },
        "id": "MMsZB0bS0bf-",
        "outputId": "c9c639f6-0c73-44cf-87ee-915b9c4be70e"
      },
      "source": [
        "# get same columns for the numerical_test dataset begin with numerical columns\n",
        "numerical_test = test.select_dtypes(include=['int', 'float'])\n",
        "numerical_test['years_until_remod'] = test['Year Remod/Add'] - test['Year Built']\n",
        "numerical_test_df = numerical_test[numerical_cols]\n",
        "# numerical_test.head()\n",
        "\n",
        "# get same columns for the text_test dataset\n",
        "text_test = test.select_dtypes(include=['object']) # select columns with object dtype\n",
        "text_test = text_test[subset_text_train_cols]\n",
        "\n",
        "text_test = text_test.dropna(how='any', axis=0)\n",
        "\n",
        "text_test.shape\n",
        "\n",
        "# perfome one hot encoding the the text_test data\n",
        "text_test_df = pd.get_dummies(text_test)\n",
        "text_test_df.shape"
      ],
      "execution_count": null,
      "outputs": [
        {
          "output_type": "stream",
          "name": "stderr",
          "text": [
            "/usr/local/lib/python3.7/dist-packages/ipykernel_launcher.py:3: SettingWithCopyWarning: \n",
            "A value is trying to be set on a copy of a slice from a DataFrame.\n",
            "Try using .loc[row_indexer,col_indexer] = value instead\n",
            "\n",
            "See the caveats in the documentation: https://pandas.pydata.org/pandas-docs/stable/user_guide/indexing.html#returning-a-view-versus-a-copy\n",
            "  This is separate from the ipykernel package so we can avoid doing imports until\n"
          ]
        },
        {
          "output_type": "execute_result",
          "data": {
            "text/plain": [
              "(1415, 213)"
            ]
          },
          "metadata": {},
          "execution_count": 58
        }
      ]
    },
    {
      "cell_type": "code",
      "metadata": {
        "colab": {
          "base_uri": "https://localhost:8080/"
        },
        "id": "LObiI3QkSOJv",
        "outputId": "7f3444e8-67f3-4da7-fd9c-098b567dd3f6"
      },
      "source": [
        "numerical_test_df.shape"
      ],
      "execution_count": null,
      "outputs": [
        {
          "output_type": "execute_result",
          "data": {
            "text/plain": [
              "(1470, 15)"
            ]
          },
          "metadata": {},
          "execution_count": 183
        }
      ]
    },
    {
      "cell_type": "code",
      "metadata": {
        "colab": {
          "base_uri": "https://localhost:8080/"
        },
        "id": "-Vie4LOLIvd_",
        "outputId": "28f12509-4a3c-482e-e284-4e354e5c026e"
      },
      "source": [
        "text_test.shape"
      ],
      "execution_count": null,
      "outputs": [
        {
          "output_type": "execute_result",
          "data": {
            "text/plain": [
              "(1415, 34)"
            ]
          },
          "metadata": {},
          "execution_count": 196
        }
      ]
    },
    {
      "cell_type": "markdown",
      "metadata": {
        "id": "GVKq39XLgAWg"
      },
      "source": [
        "Upon selecting prefered columns both numerical and text and performing one hot encoding on the training data, the same process was perfomed on the test data. It was realized that the test data had 2 more columns than the train data. In that case, we will select the prefered text and numerical column from the entire dataframe, then perfom one hot encoding before spliting the data."
      ]
    },
    {
      "cell_type": "code",
      "metadata": {
        "colab": {
          "base_uri": "https://localhost:8080/"
        },
        "id": "kebfrl1Ffj4w",
        "outputId": "aaeda654-86e8-4134-b3fe-90d63c056d6e"
      },
      "source": [
        "# combine the prefered numerical and text dataframes\n",
        "pref_final_cols_df = pd.concat([subset_train, subset_text_train], axis=1)\n",
        "# pref_final_cols_df.head()\n",
        "\n",
        "# extract the columns which will be applied to the original dataFrame before spliting to train and test data\n",
        "pref_final_cols_df_f = pref_final_cols_df.columns\n",
        "# pref_final_cols_df_f\n",
        "\n",
        "prefered_df = data[pref_final_cols_df_f]\n",
        "prefered_df.shape"
      ],
      "execution_count": null,
      "outputs": [
        {
          "output_type": "execute_result",
          "data": {
            "text/plain": [
              "(2930, 49)"
            ]
          },
          "metadata": {},
          "execution_count": 59
        }
      ]
    },
    {
      "cell_type": "markdown",
      "metadata": {
        "id": "cGtEpHS3i69G"
      },
      "source": [
        "we have our preferred 49 columns which we will use to for our train and test datasets though this may change as we will need to check the text columns that have good correlation with saleprice first after one hot encoding"
      ]
    },
    {
      "cell_type": "code",
      "metadata": {
        "colab": {
          "base_uri": "https://localhost:8080/"
        },
        "id": "qeqa6HuLjN-k",
        "outputId": "1174b925-3e0f-4f66-f4e2-5a049c063e42"
      },
      "source": [
        "# populate the null with mode for all the columns in the prefered dataframe\n",
        "for column in prefered_df:\n",
        "    if prefered_df[column].isnull().any():\n",
        "        prefered_df[column]=prefered_df[column].fillna(prefered_df[column].mode()[0])\n",
        "prefered_df.isnull().sum()\n",
        "\n",
        "# split the dataframe into numeric and text dataframes\n",
        "numeric_df = prefered_df.select_dtypes(include=['int', 'float'])  # select numeric columns\n",
        "# numeric_df.shape\n",
        "text_df = prefered_df.select_dtypes(include=['object'])  # select text columns\n",
        "# text_df.shape\n",
        "\n",
        "text_df_f = pd.get_dummies(text_df)\n",
        "# text_df_f.shape\n",
        "\n",
        "# concat the numeric and text df\n",
        "final_df = pd.concat([numeric_df, text_df_f], axis=1)\n",
        "\n",
        "# filter and remain only with the preferred columns as per the train dateset\n",
        "final_df = final_df[final_train_df_cols]\n",
        "final_df.shape"
      ],
      "execution_count": 68,
      "outputs": [
        {
          "output_type": "execute_result",
          "data": {
            "text/plain": [
              "(2930, 54)"
            ]
          },
          "metadata": {},
          "execution_count": 68
        }
      ]
    },
    {
      "cell_type": "markdown",
      "metadata": {
        "id": "GB6p2OesHfc5"
      },
      "source": [
        "Finally we have our 54 features"
      ]
    },
    {
      "cell_type": "markdown",
      "metadata": {
        "id": "vlvUyZrjeo97"
      },
      "source": [
        "## 4. Train and Test"
      ]
    },
    {
      "cell_type": "markdown",
      "metadata": {
        "id": "iYllZ0xBetTh"
      },
      "source": [
        "Now for the final part of the pipeline, training and testing. When iterating on different features, using simple validation is a good idea. Let's add a parameter named `k` that controls the type of cross validation that occurs."
      ]
    },
    {
      "cell_type": "markdown",
      "metadata": {
        "id": "4LmYg5JWeuGt"
      },
      "source": [
        "**Tasks**\n",
        "\n",
        "1. The optional `k` parameter should accept integer values, with a default value of `0`.\n",
        "\n",
        "2. When `k` equals `0`, perform holdout validation (what we already implemented):\n",
        "\n",
        "* Select the first `1460` rows and assign to `train`.\n",
        "* Select the remaining rows and assign to test.\n",
        "* Train on `train` and `test` on test.\n",
        "* Compute the `RMSE` and return.\n",
        "\n",
        "3. When k equals 1, perform simple cross validation:\n",
        "\n",
        "* Shuffle the ordering of the rows in the data frame.\n",
        "* Select the first 1460 rows and assign to `fold_one`.\n",
        "* Select the remaining rows and assign to `fold_two`.\n",
        "* Train on `fold_one` and test on `fold_two`.\n",
        "* Train on `fold_two` and test on `fold_one`.\n",
        "* Compute the average RMSE and return.\n",
        "\n",
        "4. When `k` is greater than `0`, implement k-fold cross validation using `k` folds:\n",
        "\n",
        "* Perform `k-fold` cross validation using k folds.\n",
        "* Calculate the average `RMSE` value and return this value."
      ]
    },
    {
      "cell_type": "code",
      "metadata": {
        "id": "65zsZNJyfUnS",
        "colab": {
          "base_uri": "https://localhost:8080/"
        },
        "outputId": "d86ac543-5f11-4435-bf5d-76a1a5ea116e"
      },
      "source": [
        "# when k = 0 \n",
        "# Your code goes here\n",
        "from sklearn.model_selection import KFold\n",
        "from sklearn.model_selection import train_test_split\n",
        "from sklearn import metrics\n",
        "\n",
        "train = final_df[0:1460]\n",
        "test = final_df[1460:]\n",
        "\n",
        "feature_train = train.drop(['SalePrice'], axis=1)\n",
        "target_train = train['SalePrice']\n",
        "feature_test = test.drop(['SalePrice'], axis=1)\n",
        "target_test = test['SalePrice']\n",
        "\n",
        "# initalize the model\n",
        "lr0 = LinearRegression()\n",
        "\n",
        "# train model \n",
        "lr0.fit(feature_train, target_train)\n",
        "\n",
        "pred_0 = lr0.predict(feature_test)\n",
        "\n",
        "mse0 = mean_squared_error(target_test, pred_0)\n",
        "rmse0 = mse0**0.5\n",
        "\n",
        "print(\"mse0 : \", mse0)\n",
        "print(\"rmse0 : \", rmse0)"
      ],
      "execution_count": null,
      "outputs": [
        {
          "output_type": "stream",
          "name": "stdout",
          "text": [
            "mse0 :  1370323868.022546\n",
            "rmse0 :  37017.885785421975\n"
          ]
        }
      ]
    },
    {
      "cell_type": "code",
      "metadata": {
        "colab": {
          "base_uri": "https://localhost:8080/"
        },
        "id": "o4oHdnqO3c6R",
        "outputId": "835641e8-be7f-405d-d6bb-146dee28e876"
      },
      "source": [
        "final_df['SalePrice'].describe()"
      ],
      "execution_count": null,
      "outputs": [
        {
          "output_type": "execute_result",
          "data": {
            "text/plain": [
              "count      2930.000000\n",
              "mean     180796.060068\n",
              "std       79886.692357\n",
              "min       12789.000000\n",
              "25%      129500.000000\n",
              "50%      160000.000000\n",
              "75%      213500.000000\n",
              "max      755000.000000\n",
              "Name: SalePrice, dtype: float64"
            ]
          },
          "metadata": {},
          "execution_count": 67
        }
      ]
    },
    {
      "cell_type": "code",
      "metadata": {
        "colab": {
          "base_uri": "https://localhost:8080/"
        },
        "id": "u56Zxhmh8-Qx",
        "outputId": "0de78842-1bf6-457b-9093-f2001b4f1121"
      },
      "source": [
        "# k = 1\n",
        "fold_one = final_df[0:1460]\n",
        "fold_two = final_df[1460:]\n",
        "\n",
        "feature_train = fold_one.drop(['SalePrice'], axis=1)\n",
        "target_train = fold_one['SalePrice']\n",
        "feature_test = fold_two.drop(['SalePrice'], axis=1)\n",
        "target_test = fold_two['SalePrice']\n",
        "\n",
        "# initalize the model\n",
        "lrf1 = LinearRegression()\n",
        "lrf2 = LinearRegression()\n",
        "\n",
        "# train model \n",
        "lrf1.fit(feature_train, target_train)\n",
        "lrf2.fit(feature_test, target_test)\n",
        "\n",
        "pred_1 = lrf1.predict(feature_test)\n",
        "pred_2 = lrf2.predict(feature_train)\n",
        "\n",
        "mse1 = mean_squared_error(target_test, pred_1)\n",
        "rmse1 = mse1**0.5\n",
        "\n",
        "mse2 = mean_squared_error(target_train, pred_2)\n",
        "rmse2 = mse2**0.5\n",
        "\n",
        "print(\"mse1 : \", mse1)\n",
        "print(\"rmse1 : \", rmse1)\n",
        "\n",
        "print(\"mse2 : \", mse2)\n",
        "print(\"rmse2 : \", rmse2)"
      ],
      "execution_count": null,
      "outputs": [
        {
          "output_type": "stream",
          "name": "stdout",
          "text": [
            "mse1 :  1370323868.022546\n",
            "rmse1 :  37017.885785421975\n",
            "mse2 :  805813204.0402929\n",
            "rmse2 :  28386.84913899908\n"
          ]
        }
      ]
    },
    {
      "cell_type": "markdown",
      "metadata": {
        "id": "xQyEfw2jIYwn"
      },
      "source": [
        "with cross validation, we get a much lower rmse of 28386 which is the closest to 10% of the SalePrice mean"
      ]
    },
    {
      "cell_type": "code",
      "metadata": {
        "colab": {
          "base_uri": "https://localhost:8080/"
        },
        "id": "IqGcdMwVz7sJ",
        "outputId": "436691b7-acba-4322-8a5c-37d6c4a0bb00"
      },
      "source": [
        "# when k = 5\n",
        "\n",
        "X =  final_df.drop(['SalePrice'], axis=1).values\n",
        "y = final_df['SalePrice'].values\n",
        "\n",
        "folds = KFold(n_splits=5)\n",
        "\n",
        "# preview how the k value\n",
        "print('we are using ' +str(folds.get_n_splits(X)) + ' folds')\n",
        "\n",
        "# create and assess 1 model based on the 1 folds we created.\n",
        "RMSES = [] # use this array to keep track of the RSME\n",
        "count = 1 \n",
        "for train_index, test_index in folds.split(X):\n",
        "  print('\\nTraining model ' + str(count))\n",
        "  \n",
        "  # set up the train and test based on the split determined by KFold\n",
        "  X_train, X_test = X[train_index], X[test_index]\n",
        "  y_train, y_test = y[train_index], y[test_index]\n",
        "  \n",
        "  # fit a model accordingly\n",
        "  regressor = LinearRegression()  \n",
        "  regressor.fit(X_train, y_train)\n",
        "  \n",
        "  # assess the accuraccy of the model\n",
        "  y_pred = regressor.predict(X_test)\n",
        "  \n",
        "  rmse_value =  np.sqrt(metrics.mean_squared_error(y_test, y_pred))\n",
        "  RMSES.append(rmse_value)\n",
        "  \n",
        "  print('Model ' + str(count) + ' Root Mean Squared Error:',rmse_value)\n",
        "  count = count + 1"
      ],
      "execution_count": null,
      "outputs": [
        {
          "output_type": "stream",
          "name": "stdout",
          "text": [
            "we are using 5 folds\n",
            "\n",
            "Training model 1\n",
            "Model 1 Root Mean Squared Error: 30569.85241383739\n",
            "\n",
            "Training model 2\n",
            "Model 2 Root Mean Squared Error: 24597.682902198077\n",
            "\n",
            "Training model 3\n",
            "Model 3 Root Mean Squared Error: 35056.48895216577\n",
            "\n",
            "Training model 4\n",
            "Model 4 Root Mean Squared Error: 38569.706780949724\n",
            "\n",
            "Training model 5\n",
            "Model 5 Root Mean Squared Error: 24938.67373148323\n"
          ]
        }
      ]
    },
    {
      "cell_type": "code",
      "metadata": {
        "colab": {
          "base_uri": "https://localhost:8080/"
        },
        "id": "GLi2yt1v3GTF",
        "outputId": "0610b14f-6b47-4db6-8a95-f40a60d3a766"
      },
      "source": [
        "np.mean(RMSES)"
      ],
      "execution_count": null,
      "outputs": [
        {
          "output_type": "execute_result",
          "data": {
            "text/plain": [
              "30746.480956126838"
            ]
          },
          "metadata": {},
          "execution_count": 66
        }
      ]
    },
    {
      "cell_type": "markdown",
      "metadata": {
        "id": "hh7sWqO43Uri"
      },
      "source": [
        "The average RMSE is way better than the initial value and closer to 10% of the saleprice mean."
      ]
    },
    {
      "cell_type": "markdown",
      "metadata": {
        "id": "NBRXPk5wflpP"
      },
      "source": [
        "## 5. Next Steps"
      ]
    },
    {
      "cell_type": "markdown",
      "metadata": {
        "id": "9JV5JSMQfp_o"
      },
      "source": [
        "That's it for the guided steps. Here's some potenial next steps that you can take:\n",
        "\n",
        "1. Continue iteration on feature engineering:\n",
        "* Research some other approaches to feature engineering online around housing data.\n",
        "* Visit the Kaggle kernels [page](https://www.kaggle.com/c/house-prices-advanced-regression-techniques/kernels) page for this dataset to see approaches others took.\n",
        "\n",
        "2. Improve your feature selection:\n",
        "* Research ways of doing feature selection better with categorical columns (something we didn't cover in this particular course)."
      ]
    },
    {
      "cell_type": "markdown",
      "metadata": {
        "id": "SCNe7adw2F7S"
      },
      "source": [
        "Other ways of performing feature selection include\n",
        "Recursive Feature Elimination.\n",
        "Principle Component Analysis.\n",
        "Feature Importance.\n",
        "Chi square test\n",
        "Fishers score"
      ]
    }
  ]
}